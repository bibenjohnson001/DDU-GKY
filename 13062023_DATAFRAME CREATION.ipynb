{
 "cells": [
  {
   "cell_type": "code",
   "execution_count": 1,
   "id": "0dfb67aa",
   "metadata": {},
   "outputs": [],
   "source": [
    "import pandas as pd\n",
    "import numpy as np"
   ]
  },
  {
   "cell_type": "markdown",
   "id": "8bd9400e",
   "metadata": {},
   "source": [
    "#### Finding Data type"
   ]
  },
  {
   "cell_type": "code",
   "execution_count": 2,
   "id": "8883fead",
   "metadata": {},
   "outputs": [
    {
     "name": "stdout",
     "output_type": "stream",
     "text": [
      "float64\n"
     ]
    }
   ],
   "source": [
    "my_series=pd.Series([9.6,54.96,14.98,41/65])\n",
    "my_Series=pd.Series(['ad','da','wsed'])\n",
    "print (my_series.dtype)"
   ]
  },
  {
   "cell_type": "markdown",
   "id": "1b421b4b",
   "metadata": {},
   "source": [
    "### Converting to list"
   ]
  },
  {
   "cell_type": "code",
   "execution_count": 3,
   "id": "a6d11832",
   "metadata": {},
   "outputs": [
    {
     "name": "stdout",
     "output_type": "stream",
     "text": [
      "[9.6, 54.96, 14.98, 0.6307692307692307]\n"
     ]
    }
   ],
   "source": [
    "print (my_series.tolist())"
   ]
  },
  {
   "cell_type": "markdown",
   "id": "e2b7d314",
   "metadata": {},
   "source": [
    "### Pandas Data Frame"
   ]
  },
  {
   "cell_type": "markdown",
   "id": "4fc90af2",
   "metadata": {},
   "source": [
    "A Pandas dataframe is a tabular data structure that stores data in the form of rows and columns.As a standard,the rows correspond to records while column refers to attributes.In simplest words,a Pandas dataframe is a collection of series"
   ]
  },
  {
   "cell_type": "markdown",
   "id": "1a207707",
   "metadata": {},
   "source": [
    "### Empty dataframe"
   ]
  },
  {
   "cell_type": "code",
   "execution_count": 4,
   "id": "c5d44571",
   "metadata": {},
   "outputs": [
    {
     "name": "stdout",
     "output_type": "stream",
     "text": [
      "Empty DataFrame\n",
      "Columns: []\n",
      "Index: []\n"
     ]
    }
   ],
   "source": [
    "my_df = pd.DataFrame()\n",
    "print (my_df)"
   ]
  },
  {
   "cell_type": "markdown",
   "id": "1622a698",
   "metadata": {},
   "source": [
    "## Dataframe using list of lists"
   ]
  },
  {
   "cell_type": "code",
   "execution_count": 5,
   "id": "df53d83e",
   "metadata": {},
   "outputs": [
    {
     "data": {
      "text/html": [
       "<div>\n",
       "<style scoped>\n",
       "    .dataframe tbody tr th:only-of-type {\n",
       "        vertical-align: middle;\n",
       "    }\n",
       "\n",
       "    .dataframe tbody tr th {\n",
       "        vertical-align: top;\n",
       "    }\n",
       "\n",
       "    .dataframe thead th {\n",
       "        text-align: right;\n",
       "    }\n",
       "</style>\n",
       "<table border=\"1\" class=\"dataframe\">\n",
       "  <thead>\n",
       "    <tr style=\"text-align: right;\">\n",
       "      <th></th>\n",
       "      <th>Subject</th>\n",
       "      <th>Score</th>\n",
       "      <th>Name</th>\n",
       "      <th>ID</th>\n",
       "    </tr>\n",
       "  </thead>\n",
       "  <tbody>\n",
       "    <tr>\n",
       "      <th>0</th>\n",
       "      <td>Mathematics</td>\n",
       "      <td>54</td>\n",
       "      <td>BIBEN</td>\n",
       "      <td>9846</td>\n",
       "    </tr>\n",
       "    <tr>\n",
       "      <th>1</th>\n",
       "      <td>English</td>\n",
       "      <td>58</td>\n",
       "      <td>GEO</td>\n",
       "      <td>456</td>\n",
       "    </tr>\n",
       "    <tr>\n",
       "      <th>2</th>\n",
       "      <td>Geography</td>\n",
       "      <td>52</td>\n",
       "      <td>joyal</td>\n",
       "      <td>4523</td>\n",
       "    </tr>\n",
       "    <tr>\n",
       "      <th>3</th>\n",
       "      <td>Civics</td>\n",
       "      <td>46</td>\n",
       "      <td>arun</td>\n",
       "      <td>4587</td>\n",
       "    </tr>\n",
       "  </tbody>\n",
       "</table>\n",
       "</div>"
      ],
      "text/plain": [
       "       Subject  Score   Name    ID\n",
       "0  Mathematics     54  BIBEN  9846\n",
       "1      English     58    GEO   456\n",
       "2    Geography     52  joyal  4523\n",
       "3       Civics     46   arun  4587"
      ]
     },
     "execution_count": 5,
     "metadata": {},
     "output_type": "execute_result"
    }
   ],
   "source": [
    "scores = [['Mathematics',54,'BIBEN',9846],['English',58,'GEO',456],['Geography',52,'joyal',4523],['Civics',46,'arun',4587]]\n",
    "my_df = pd.DataFrame(scores,columns=['Subject','Score','Name','ID'])\n",
    "my_df"
   ]
  },
  {
   "cell_type": "code",
   "execution_count": 6,
   "id": "93ac0e98",
   "metadata": {},
   "outputs": [
    {
     "data": {
      "text/plain": [
       "128.389514"
      ]
     },
     "execution_count": 6,
     "metadata": {},
     "output_type": "execute_result"
    }
   ],
   "source": [
    "2.354*54.541"
   ]
  },
  {
   "cell_type": "markdown",
   "id": "49a4fb0a",
   "metadata": {},
   "source": [
    "### DATA FRAME USING DICTIONARIES"
   ]
  },
  {
   "cell_type": "code",
   "execution_count": 7,
   "id": "b65665ed",
   "metadata": {},
   "outputs": [
    {
     "data": {
      "text/html": [
       "<div>\n",
       "<style scoped>\n",
       "    .dataframe tbody tr th:only-of-type {\n",
       "        vertical-align: middle;\n",
       "    }\n",
       "\n",
       "    .dataframe tbody tr th {\n",
       "        vertical-align: top;\n",
       "    }\n",
       "\n",
       "    .dataframe thead th {\n",
       "        text-align: right;\n",
       "    }\n",
       "</style>\n",
       "<table border=\"1\" class=\"dataframe\">\n",
       "  <thead>\n",
       "    <tr style=\"text-align: right;\">\n",
       "      <th></th>\n",
       "      <th>NAME</th>\n",
       "      <th>SCORE</th>\n",
       "    </tr>\n",
       "  </thead>\n",
       "  <tbody>\n",
       "    <tr>\n",
       "      <th>0</th>\n",
       "      <td>ENGLISH</td>\n",
       "      <td>98</td>\n",
       "    </tr>\n",
       "    <tr>\n",
       "      <th>1</th>\n",
       "      <td>CHEMISTRY</td>\n",
       "      <td>45</td>\n",
       "    </tr>\n",
       "    <tr>\n",
       "      <th>2</th>\n",
       "      <td>BIOLOGY</td>\n",
       "      <td>15</td>\n",
       "    </tr>\n",
       "    <tr>\n",
       "      <th>3</th>\n",
       "      <td>PHYSICS</td>\n",
       "      <td>78</td>\n",
       "    </tr>\n",
       "    <tr>\n",
       "      <th>4</th>\n",
       "      <td>ENGLISH 2</td>\n",
       "      <td>94</td>\n",
       "    </tr>\n",
       "  </tbody>\n",
       "</table>\n",
       "</div>"
      ],
      "text/plain": [
       "        NAME  SCORE\n",
       "0    ENGLISH     98\n",
       "1  CHEMISTRY     45\n",
       "2    BIOLOGY     15\n",
       "3    PHYSICS     78\n",
       "4  ENGLISH 2     94"
      ]
     },
     "execution_count": 7,
     "metadata": {},
     "output_type": "execute_result"
    }
   ],
   "source": [
    "SCORES={'NAME':['ENGLISH','CHEMISTRY','BIOLOGY','PHYSICS','ENGLISH 2'],'SCORE':[98,45,15,78,94]}\n",
    "my_df =pd.DataFrame(SCORES)\n",
    "my_df"
   ]
  },
  {
   "cell_type": "markdown",
   "id": "2bcc6267",
   "metadata": {},
   "source": [
    "### DATAFRAME USING LIST OF DICTIONARIES"
   ]
  },
  {
   "cell_type": "code",
   "execution_count": 12,
   "id": "7eaf5322",
   "metadata": {},
   "outputs": [
    {
     "data": {
      "text/html": [
       "<div>\n",
       "<style scoped>\n",
       "    .dataframe tbody tr th:only-of-type {\n",
       "        vertical-align: middle;\n",
       "    }\n",
       "\n",
       "    .dataframe tbody tr th {\n",
       "        vertical-align: top;\n",
       "    }\n",
       "\n",
       "    .dataframe thead th {\n",
       "        text-align: right;\n",
       "    }\n",
       "</style>\n",
       "<table border=\"1\" class=\"dataframe\">\n",
       "  <thead>\n",
       "    <tr style=\"text-align: right;\">\n",
       "      <th></th>\n",
       "      <th>Subject</th>\n",
       "      <th>Score</th>\n",
       "    </tr>\n",
       "  </thead>\n",
       "  <tbody>\n",
       "    <tr>\n",
       "      <th>0</th>\n",
       "      <td>English</td>\n",
       "      <td>65.000000</td>\n",
       "    </tr>\n",
       "    <tr>\n",
       "      <th>1</th>\n",
       "      <td>PHYSICS</td>\n",
       "      <td>76.000000</td>\n",
       "    </tr>\n",
       "    <tr>\n",
       "      <th>2</th>\n",
       "      <td>ENGLISH 2</td>\n",
       "      <td>78.000000</td>\n",
       "    </tr>\n",
       "    <tr>\n",
       "      <th>3</th>\n",
       "      <td>CHEMISTRY</td>\n",
       "      <td>86.956522</td>\n",
       "    </tr>\n",
       "  </tbody>\n",
       "</table>\n",
       "</div>"
      ],
      "text/plain": [
       "     Subject      Score\n",
       "0    English  65.000000\n",
       "1    PHYSICS  76.000000\n",
       "2  ENGLISH 2  78.000000\n",
       "3  CHEMISTRY  86.956522"
      ]
     },
     "execution_count": 12,
     "metadata": {},
     "output_type": "execute_result"
    }
   ],
   "source": [
    "scores = [\n",
    "    {'Subject':'English','Score':65},\n",
    "    {'Subject':'PHYSICS','Score':76},\n",
    "    {'Score':78,'Subject':'ENGLISH 2'},\n",
    "    {'Score':4000/46,'Subject':'CHEMISTRY'}\n",
    "]\n",
    "my_df = pd.DataFrame(scores)\n",
    "my_df"
   ]
  },
  {
   "cell_type": "markdown",
   "id": "93f292c6",
   "metadata": {},
   "source": [
    "### 4.Dataframe using list of dictionaries with null items"
   ]
  },
  {
   "cell_type": "code",
   "execution_count": 19,
   "id": "8e85d236",
   "metadata": {},
   "outputs": [
    {
     "data": {
      "text/html": [
       "<div>\n",
       "<style scoped>\n",
       "    .dataframe tbody tr th:only-of-type {\n",
       "        vertical-align: middle;\n",
       "    }\n",
       "\n",
       "    .dataframe tbody tr th {\n",
       "        vertical-align: top;\n",
       "    }\n",
       "\n",
       "    .dataframe thead th {\n",
       "        text-align: right;\n",
       "    }\n",
       "</style>\n",
       "<table border=\"1\" class=\"dataframe\">\n",
       "  <thead>\n",
       "    <tr style=\"text-align: right;\">\n",
       "      <th></th>\n",
       "      <th>Subject</th>\n",
       "      <th>Score</th>\n",
       "    </tr>\n",
       "  </thead>\n",
       "  <tbody>\n",
       "    <tr>\n",
       "      <th>0</th>\n",
       "      <td>CHEMISTRY</td>\n",
       "      <td>84.0</td>\n",
       "    </tr>\n",
       "    <tr>\n",
       "      <th>1</th>\n",
       "      <td>NaN</td>\n",
       "      <td>78.0</td>\n",
       "    </tr>\n",
       "    <tr>\n",
       "      <th>2</th>\n",
       "      <td>POLITICAL SCIENCE</td>\n",
       "      <td>89.0</td>\n",
       "    </tr>\n",
       "    <tr>\n",
       "      <th>3</th>\n",
       "      <td>ENVIRNOMENTAL SCENCE</td>\n",
       "      <td>54.0</td>\n",
       "    </tr>\n",
       "    <tr>\n",
       "      <th>4</th>\n",
       "      <td>DATA SCIENCE</td>\n",
       "      <td>NaN</td>\n",
       "    </tr>\n",
       "  </tbody>\n",
       "</table>\n",
       "</div>"
      ],
      "text/plain": [
       "                Subject  Score\n",
       "0             CHEMISTRY   84.0\n",
       "1                   NaN   78.0\n",
       "2     POLITICAL SCIENCE   89.0\n",
       "3  ENVIRNOMENTAL SCENCE   54.0\n",
       "4          DATA SCIENCE    NaN"
      ]
     },
     "execution_count": 19,
     "metadata": {},
     "output_type": "execute_result"
    }
   ],
   "source": [
    "scores=[\n",
    "    {'Subject':'CHEMISTRY','Score':84},\n",
    "    {'Score':78},\n",
    "    {'Subject':'POLITICAL SCIENCE','Score':89},\n",
    "    {'Subject':'ENVIRNOMENTAL SCENCE','Score':54},\n",
    "    {'Subject':'DATA SCIENCE',}\n",
    "]\n",
    "my_df = pd.DataFrame(scores)\n",
    "my_df"
   ]
  },
  {
   "cell_type": "code",
   "execution_count": null,
   "id": "be5a68de",
   "metadata": {},
   "outputs": [],
   "source": []
  }
 ],
 "metadata": {
  "kernelspec": {
   "display_name": "Python 3 (ipykernel)",
   "language": "python",
   "name": "python3"
  },
  "language_info": {
   "codemirror_mode": {
    "name": "ipython",
    "version": 3
   },
   "file_extension": ".py",
   "mimetype": "text/x-python",
   "name": "python",
   "nbconvert_exporter": "python",
   "pygments_lexer": "ipython3",
   "version": "3.10.9"
  }
 },
 "nbformat": 4,
 "nbformat_minor": 5
}
