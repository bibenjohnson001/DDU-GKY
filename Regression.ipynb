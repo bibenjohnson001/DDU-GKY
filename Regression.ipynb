{
 "cells": [
  {
   "cell_type": "markdown",
   "id": "d1743dac",
   "metadata": {},
   "source": [
    "### MACHINE LEARNING"
   ]
  },
  {
   "cell_type": "markdown",
   "id": "779c17b3",
   "metadata": {},
   "source": [
    "### SIMPLE LINEAR REGRESSION"
   ]
  },
  {
   "cell_type": "code",
   "execution_count": 1,
   "id": "bbeacb27",
   "metadata": {},
   "outputs": [],
   "source": [
    "x=[5,7,8,7,2,17,2,9,4,11,12,9,6]\n",
    "y=[99,86,87,88,111,86,103,87,94,78,77,85,86]"
   ]
  },
  {
   "cell_type": "code",
   "execution_count": 2,
   "id": "acad3e3b",
   "metadata": {},
   "outputs": [],
   "source": [
    "import seaborn as sns\n",
    "from scipy import stats\n",
    "import matplotlib.pyplot as plt\n",
    "import numpy as np\n"
   ]
  },
  {
   "cell_type": "code",
   "execution_count": 3,
   "id": "91d81ef6",
   "metadata": {},
   "outputs": [],
   "source": [
    "slope,intercept,r,p,std_error = stats.linregress(x,y)\n"
   ]
  },
  {
   "cell_type": "code",
   "execution_count": 4,
   "id": "c37de7e1",
   "metadata": {},
   "outputs": [],
   "source": [
    "def myfunc(x):\n",
    "    return slope*x+intercept"
   ]
  },
  {
   "cell_type": "code",
   "execution_count": 5,
   "id": "9751471b",
   "metadata": {},
   "outputs": [
    {
     "data": {
      "text/plain": [
       "<map at 0x2e5f3d0ea40>"
      ]
     },
     "execution_count": 5,
     "metadata": {},
     "output_type": "execute_result"
    }
   ],
   "source": [
    "map(myfunc, x)"
   ]
  },
  {
   "cell_type": "code",
   "execution_count": 6,
   "id": "f98f7b50",
   "metadata": {},
   "outputs": [
    {
     "data": {
      "text/plain": [
       "[94.3495217071376,\n",
       " 90.84694628403238,\n",
       " 89.09565857247976,\n",
       " 90.84694628403238,\n",
       " 99.60338484179543,\n",
       " 73.33406916850626,\n",
       " 99.60338484179543,\n",
       " 87.34437086092716,\n",
       " 96.10080941869022,\n",
       " 83.84179543782193,\n",
       " 82.09050772626932,\n",
       " 87.34437086092716,\n",
       " 92.59823399558499]"
      ]
     },
     "execution_count": 6,
     "metadata": {},
     "output_type": "execute_result"
    }
   ],
   "source": [
    "list(map(myfunc,x))"
   ]
  },
  {
   "cell_type": "code",
   "execution_count": 7,
   "id": "472207af",
   "metadata": {},
   "outputs": [],
   "source": [
    "mymodel =list(map(myfunc, x))"
   ]
  },
  {
   "cell_type": "code",
   "execution_count": 8,
   "id": "11058040",
   "metadata": {},
   "outputs": [
    {
     "data": {
      "image/png": "[encoded data removed]",
      "text/plain": [
       "<Figure size 640x480 with 1 Axes>"
      ]
     },
     "metadata": {},
     "output_type": "display_data"
    }
   ],
   "source": [
    "plt.scatter(x,y)\n",
    "plt.plot(x,mymodel)\n",
    "plt.show()"
   ]
  },
  {
   "cell_type": "code",
   "execution_count": 9,
   "id": "ca31a13b",
   "metadata": {},
   "outputs": [
    {
     "data": {
      "text/plain": [
       "-0.758591524376155"
      ]
     },
     "execution_count": 9,
     "metadata": {},
     "output_type": "execute_result"
    }
   ],
   "source": [
    "r"
   ]
  },
  {
   "cell_type": "code",
   "execution_count": 10,
   "id": "c0d77196",
   "metadata": {},
   "outputs": [
    {
     "data": {
      "text/plain": [
       "0.453536157607742"
      ]
     },
     "execution_count": 10,
     "metadata": {},
     "output_type": "execute_result"
    }
   ],
   "source": [
    "std_error"
   ]
  },
  {
   "cell_type": "code",
   "execution_count": 11,
   "id": "cc4cbdf3",
   "metadata": {},
   "outputs": [
    {
     "data": {
      "text/plain": [
       "0.0026468739224561064"
      ]
     },
     "execution_count": 11,
     "metadata": {},
     "output_type": "execute_result"
    }
   ],
   "source": [
    "p"
   ]
  },
  {
   "cell_type": "markdown",
   "id": "a71f5bd3",
   "metadata": {},
   "source": [
    "#### The p value for a hypothesis test whose null hypothesis the slope is zero,using Wald Test with t_term distrbution of the test static.The smaller the p value the greater the discrepancy."
   ]
  },
  {
   "cell_type": "code",
   "execution_count": 12,
   "id": "394a7f8b",
   "metadata": {},
   "outputs": [],
   "source": [
    "speed =myfunc(10)"
   ]
  },
  {
   "cell_type": "code",
   "execution_count": 13,
   "id": "87a3653b",
   "metadata": {},
   "outputs": [
    {
     "data": {
      "text/plain": [
       "85.59308314937454"
      ]
     },
     "execution_count": 13,
     "metadata": {},
     "output_type": "execute_result"
    }
   ],
   "source": [
    "speed"
   ]
  },
  {
   "cell_type": "code",
   "execution_count": 14,
   "id": "8070e070",
   "metadata": {},
   "outputs": [],
   "source": [
    "from pydataset import data"
   ]
  },
  {
   "cell_type": "code",
   "execution_count": 15,
   "id": "f6bd2293",
   "metadata": {},
   "outputs": [
    {
     "data": {
      "text/html": [
       "<div>\n",
       "<style scoped>\n",
       "    .dataframe tbody tr th:only-of-type {\n",
       "        vertical-align: middle;\n",
       "    }\n",
       "\n",
       "    .dataframe tbody tr th {\n",
       "        vertical-align: top;\n",
       "    }\n",
       "\n",
       "    .dataframe thead th {\n",
       "        text-align: right;\n",
       "    }\n",
       "</style>\n",
       "<table border=\"1\" class=\"dataframe\">\n",
       "  <thead>\n",
       "    <tr style=\"text-align: right;\">\n",
       "      <th></th>\n",
       "      <th>dataset_id</th>\n",
       "      <th>title</th>\n",
       "    </tr>\n",
       "  </thead>\n",
       "  <tbody>\n",
       "    <tr>\n",
       "      <th>0</th>\n",
       "      <td>AirPassengers</td>\n",
       "      <td>Monthly Airline Passenger Numbers 1949-1960</td>\n",
       "    </tr>\n",
       "    <tr>\n",
       "      <th>1</th>\n",
       "      <td>BJsales</td>\n",
       "      <td>Sales Data with Leading Indicator</td>\n",
       "    </tr>\n",
       "    <tr>\n",
       "      <th>2</th>\n",
       "      <td>BOD</td>\n",
       "      <td>Biochemical Oxygen Demand</td>\n",
       "    </tr>\n",
       "    <tr>\n",
       "      <th>3</th>\n",
       "      <td>Formaldehyde</td>\n",
       "      <td>Determination of Formaldehyde</td>\n",
       "    </tr>\n",
       "    <tr>\n",
       "      <th>4</th>\n",
       "      <td>HairEyeColor</td>\n",
       "      <td>Hair and Eye Color of Statistics Students</td>\n",
       "    </tr>\n",
       "    <tr>\n",
       "      <th>...</th>\n",
       "      <td>...</td>\n",
       "      <td>...</td>\n",
       "    </tr>\n",
       "    <tr>\n",
       "      <th>752</th>\n",
       "      <td>VerbAgg</td>\n",
       "      <td>Verbal Aggression item responses</td>\n",
       "    </tr>\n",
       "    <tr>\n",
       "      <th>753</th>\n",
       "      <td>cake</td>\n",
       "      <td>Breakage Angle of Chocolate Cakes</td>\n",
       "    </tr>\n",
       "    <tr>\n",
       "      <th>754</th>\n",
       "      <td>cbpp</td>\n",
       "      <td>Contagious bovine pleuropneumonia</td>\n",
       "    </tr>\n",
       "    <tr>\n",
       "      <th>755</th>\n",
       "      <td>grouseticks</td>\n",
       "      <td>Data on red grouse ticks from Elston et al. 2001</td>\n",
       "    </tr>\n",
       "    <tr>\n",
       "      <th>756</th>\n",
       "      <td>sleepstudy</td>\n",
       "      <td>Reaction times in a sleep deprivation study</td>\n",
       "    </tr>\n",
       "  </tbody>\n",
       "</table>\n",
       "<p>757 rows × 2 columns</p>\n",
       "</div>"
      ],
      "text/plain": [
       "        dataset_id                                             title\n",
       "0    AirPassengers       Monthly Airline Passenger Numbers 1949-1960\n",
       "1          BJsales                 Sales Data with Leading Indicator\n",
       "2              BOD                         Biochemical Oxygen Demand\n",
       "3     Formaldehyde                     Determination of Formaldehyde\n",
       "4     HairEyeColor         Hair and Eye Color of Statistics Students\n",
       "..             ...                                               ...\n",
       "752        VerbAgg                  Verbal Aggression item responses\n",
       "753           cake                 Breakage Angle of Chocolate Cakes\n",
       "754           cbpp                 Contagious bovine pleuropneumonia\n",
       "755    grouseticks  Data on red grouse ticks from Elston et al. 2001\n",
       "756     sleepstudy       Reaction times in a sleep deprivation study\n",
       "\n",
       "[757 rows x 2 columns]"
      ]
     },
     "execution_count": 15,
     "metadata": {},
     "output_type": "execute_result"
    }
   ],
   "source": [
    "data()"
   ]
  },
  {
   "cell_type": "code",
   "execution_count": 16,
   "id": "4a1cf73d",
   "metadata": {},
   "outputs": [],
   "source": [
    "data1=data('BJsales')"
   ]
  },
  {
   "cell_type": "code",
   "execution_count": 17,
   "id": "96253afc",
   "metadata": {},
   "outputs": [
    {
     "data": {
      "text/html": [
       "<div>\n",
       "<style scoped>\n",
       "    .dataframe tbody tr th:only-of-type {\n",
       "        vertical-align: middle;\n",
       "    }\n",
       "\n",
       "    .dataframe tbody tr th {\n",
       "        vertical-align: top;\n",
       "    }\n",
       "\n",
       "    .dataframe thead th {\n",
       "        text-align: right;\n",
       "    }\n",
       "</style>\n",
       "<table border=\"1\" class=\"dataframe\">\n",
       "  <thead>\n",
       "    <tr style=\"text-align: right;\">\n",
       "      <th></th>\n",
       "      <th>time</th>\n",
       "      <th>BJsales</th>\n",
       "    </tr>\n",
       "  </thead>\n",
       "  <tbody>\n",
       "    <tr>\n",
       "      <th>1</th>\n",
       "      <td>1</td>\n",
       "      <td>200.1</td>\n",
       "    </tr>\n",
       "    <tr>\n",
       "      <th>2</th>\n",
       "      <td>2</td>\n",
       "      <td>199.5</td>\n",
       "    </tr>\n",
       "    <tr>\n",
       "      <th>3</th>\n",
       "      <td>3</td>\n",
       "      <td>199.4</td>\n",
       "    </tr>\n",
       "    <tr>\n",
       "      <th>4</th>\n",
       "      <td>4</td>\n",
       "      <td>198.9</td>\n",
       "    </tr>\n",
       "    <tr>\n",
       "      <th>5</th>\n",
       "      <td>5</td>\n",
       "      <td>199.0</td>\n",
       "    </tr>\n",
       "  </tbody>\n",
       "</table>\n",
       "</div>"
      ],
      "text/plain": [
       "   time  BJsales\n",
       "1     1    200.1\n",
       "2     2    199.5\n",
       "3     3    199.4\n",
       "4     4    198.9\n",
       "5     5    199.0"
      ]
     },
     "execution_count": 17,
     "metadata": {},
     "output_type": "execute_result"
    }
   ],
   "source": [
    "data1.head()"
   ]
  },
  {
   "cell_type": "code",
   "execution_count": 18,
   "id": "acdd7f1e",
   "metadata": {},
   "outputs": [],
   "source": [
    "x=data1[['time']].values"
   ]
  },
  {
   "cell_type": "code",
   "execution_count": 19,
   "id": "ee44bc7f",
   "metadata": {},
   "outputs": [],
   "source": [
    "y=data1['BJsales'].values"
   ]
  },
  {
   "cell_type": "markdown",
   "id": "fcfdad9d",
   "metadata": {},
   "source": [
    "####  Polynoimal Regression"
   ]
  },
  {
   "cell_type": "code",
   "execution_count": 20,
   "id": "7b39171a",
   "metadata": {},
   "outputs": [],
   "source": [
    "x=[1,2,3,5,6,7,8,9,10,12,13,14,15,16,18,19,21,22]\n",
    "y=[100,90,80,60,60,55,60,65,70,70,75,76,78,79,90,99,99,100]"
   ]
  },
  {
   "cell_type": "code",
   "execution_count": 21,
   "id": "63c9d2f4",
   "metadata": {},
   "outputs": [
    {
     "data": {
      "image/png": "[encoded data removed]",
      "text/plain": [
       "<Figure size 640x480 with 1 Axes>"
      ]
     },
     "metadata": {},
     "output_type": "display_data"
    }
   ],
   "source": [
    "plt.scatter(x,y)\n",
    "plt.title(\"DATA POINTS\")\n",
    "plt.show()"
   ]
  },
  {
   "cell_type": "code",
   "execution_count": 22,
   "id": "d0f02b05",
   "metadata": {},
   "outputs": [],
   "source": [
    "mymodel = np.poly1d(np.polyfit(x,y,3))"
   ]
  },
  {
   "cell_type": "markdown",
   "id": "d13d1c64",
   "metadata": {},
   "source": [
    "specfiy how the line will display,we start at position 1,and end at position22:"
   ]
  },
  {
   "cell_type": "code",
   "execution_count": 23,
   "id": "023025c4",
   "metadata": {},
   "outputs": [],
   "source": [
    "myline = np.linspace(1,22,100)"
   ]
  },
  {
   "cell_type": "code",
   "execution_count": 24,
   "id": "34a801ac",
   "metadata": {},
   "outputs": [
    {
     "data": {
      "image/png": "[encoded data removed]",
      "text/plain": [
       "<Figure size 640x480 with 1 Axes>"
      ]
     },
     "metadata": {},
     "output_type": "display_data"
    }
   ],
   "source": [
    "plt.plot(myline,mymodel(myline))\n",
    "plt.show()"
   ]
  },
  {
   "cell_type": "markdown",
   "id": "555ef311",
   "metadata": {},
   "source": [
    "R-Squared "
   ]
  },
  {
   "cell_type": "code",
   "execution_count": 25,
   "id": "946e5375",
   "metadata": {},
   "outputs": [],
   "source": [
    "from sklearn.metrics import r2_score"
   ]
  },
  {
   "cell_type": "code",
   "execution_count": 26,
   "id": "d3576014",
   "metadata": {},
   "outputs": [
    {
     "data": {
      "text/plain": [
       "0.9432150416451027"
      ]
     },
     "execution_count": 26,
     "metadata": {},
     "output_type": "execute_result"
    }
   ],
   "source": [
    "r2_score(y,mymodel(x))"
   ]
  },
  {
   "cell_type": "code",
   "execution_count": 27,
   "id": "5b7eb998",
   "metadata": {},
   "outputs": [],
   "source": [
    "speed = mymodel(17)"
   ]
  },
  {
   "cell_type": "code",
   "execution_count": 28,
   "id": "d3c84f7e",
   "metadata": {},
   "outputs": [
    {
     "data": {
      "text/plain": [
       "88.87331269697987"
      ]
     },
     "execution_count": 28,
     "metadata": {},
     "output_type": "execute_result"
    }
   ],
   "source": [
    "speed"
   ]
  },
  {
   "cell_type": "markdown",
   "id": "b0ea2825",
   "metadata": {},
   "source": [
    "### Multiple regression"
   ]
  },
  {
   "cell_type": "code",
   "execution_count": 29,
   "id": "a1fe608e",
   "metadata": {},
   "outputs": [],
   "source": [
    "import pandas as pd"
   ]
  },
  {
   "cell_type": "code",
   "execution_count": 30,
   "id": "a130e4cc",
   "metadata": {},
   "outputs": [],
   "source": [
    "data = pd.read_csv('./cars.csv') "
   ]
  },
  {
   "cell_type": "code",
   "execution_count": 31,
   "id": "a89a6aa7",
   "metadata": {},
   "outputs": [
    {
     "data": {
      "text/html": [
       "<div>\n",
       "<style scoped>\n",
       "    .dataframe tbody tr th:only-of-type {\n",
       "        vertical-align: middle;\n",
       "    }\n",
       "\n",
       "    .dataframe tbody tr th {\n",
       "        vertical-align: top;\n",
       "    }\n",
       "\n",
       "    .dataframe thead th {\n",
       "        text-align: right;\n",
       "    }\n",
       "</style>\n",
       "<table border=\"1\" class=\"dataframe\">\n",
       "  <thead>\n",
       "    <tr style=\"text-align: right;\">\n",
       "      <th></th>\n",
       "      <th>Car</th>\n",
       "      <th>Model</th>\n",
       "      <th>Volume</th>\n",
       "      <th>Weight</th>\n",
       "      <th>CO2</th>\n",
       "    </tr>\n",
       "  </thead>\n",
       "  <tbody>\n",
       "    <tr>\n",
       "      <th>0</th>\n",
       "      <td>Toyota</td>\n",
       "      <td>Aygo</td>\n",
       "      <td>1000</td>\n",
       "      <td>790</td>\n",
       "      <td>99</td>\n",
       "    </tr>\n",
       "    <tr>\n",
       "      <th>1</th>\n",
       "      <td>Mitsubishi</td>\n",
       "      <td>Space Star</td>\n",
       "      <td>1200</td>\n",
       "      <td>1160</td>\n",
       "      <td>95</td>\n",
       "    </tr>\n",
       "    <tr>\n",
       "      <th>2</th>\n",
       "      <td>Skoda</td>\n",
       "      <td>Citigo</td>\n",
       "      <td>1000</td>\n",
       "      <td>929</td>\n",
       "      <td>95</td>\n",
       "    </tr>\n",
       "    <tr>\n",
       "      <th>3</th>\n",
       "      <td>Fiat</td>\n",
       "      <td>500</td>\n",
       "      <td>900</td>\n",
       "      <td>865</td>\n",
       "      <td>90</td>\n",
       "    </tr>\n",
       "    <tr>\n",
       "      <th>4</th>\n",
       "      <td>Mini</td>\n",
       "      <td>Cooper</td>\n",
       "      <td>1500</td>\n",
       "      <td>1140</td>\n",
       "      <td>105</td>\n",
       "    </tr>\n",
       "    <tr>\n",
       "      <th>5</th>\n",
       "      <td>VW</td>\n",
       "      <td>Up!</td>\n",
       "      <td>1000</td>\n",
       "      <td>929</td>\n",
       "      <td>105</td>\n",
       "    </tr>\n",
       "    <tr>\n",
       "      <th>6</th>\n",
       "      <td>Skoda</td>\n",
       "      <td>Fabia</td>\n",
       "      <td>1400</td>\n",
       "      <td>1109</td>\n",
       "      <td>90</td>\n",
       "    </tr>\n",
       "    <tr>\n",
       "      <th>7</th>\n",
       "      <td>Mercedes</td>\n",
       "      <td>A-Class</td>\n",
       "      <td>1500</td>\n",
       "      <td>1365</td>\n",
       "      <td>92</td>\n",
       "    </tr>\n",
       "    <tr>\n",
       "      <th>8</th>\n",
       "      <td>Ford</td>\n",
       "      <td>Fiesta</td>\n",
       "      <td>1500</td>\n",
       "      <td>1112</td>\n",
       "      <td>98</td>\n",
       "    </tr>\n",
       "    <tr>\n",
       "      <th>9</th>\n",
       "      <td>Audi</td>\n",
       "      <td>A1</td>\n",
       "      <td>1600</td>\n",
       "      <td>1150</td>\n",
       "      <td>99</td>\n",
       "    </tr>\n",
       "  </tbody>\n",
       "</table>\n",
       "</div>"
      ],
      "text/plain": [
       "          Car       Model  Volume  Weight  CO2\n",
       "0      Toyota        Aygo    1000     790   99\n",
       "1  Mitsubishi  Space Star    1200    1160   95\n",
       "2       Skoda      Citigo    1000     929   95\n",
       "3        Fiat         500     900     865   90\n",
       "4        Mini      Cooper    1500    1140  105\n",
       "5          VW         Up!    1000     929  105\n",
       "6       Skoda       Fabia    1400    1109   90\n",
       "7    Mercedes     A-Class    1500    1365   92\n",
       "8        Ford      Fiesta    1500    1112   98\n",
       "9        Audi          A1    1600    1150   99"
      ]
     },
     "execution_count": 31,
     "metadata": {},
     "output_type": "execute_result"
    }
   ],
   "source": [
    "data.head(10)"
   ]
  },
  {
   "cell_type": "markdown",
   "id": "8799ff00",
   "metadata": {},
   "source": [
    "###  Splitting the data inot IV & DV"
   ]
  },
  {
   "cell_type": "code",
   "execution_count": 32,
   "id": "32477126",
   "metadata": {},
   "outputs": [],
   "source": [
    "x= data.iloc[:,2:-1].values"
   ]
  },
  {
   "cell_type": "code",
   "execution_count": 33,
   "id": "4610b63b",
   "metadata": {},
   "outputs": [],
   "source": [
    "y=data.iloc[:,-1].values"
   ]
  },
  {
   "cell_type": "code",
   "execution_count": 34,
   "id": "1f03fde1",
   "metadata": {},
   "outputs": [
    {
     "data": {
      "text/plain": [
       "array([[1000,  790],\n",
       "       [1200, 1160],\n",
       "       [1000,  929],\n",
       "       [ 900,  865],\n",
       "       [1500, 1140],\n",
       "       [1000,  929],\n",
       "       [1400, 1109],\n",
       "       [1500, 1365],\n",
       "       [1500, 1112],\n",
       "       [1600, 1150],\n",
       "       [1100,  980],\n",
       "       [1300,  990],\n",
       "       [1000, 1112],\n",
       "       [1600, 1252],\n",
       "       [1600, 1326],\n",
       "       [1600, 1330],\n",
       "       [1600, 1365],\n",
       "       [2200, 1280],\n",
       "       [1600, 1119],\n",
       "       [2000, 1328],\n",
       "       [1600, 1584],\n",
       "       [2000, 1428],\n",
       "       [2100, 1365],\n",
       "       [1600, 1415],\n",
       "       [2000, 1415],\n",
       "       [1500, 1465],\n",
       "       [2000, 1490],\n",
       "       [2000, 1725],\n",
       "       [1600, 1523],\n",
       "       [2000, 1705],\n",
       "       [2100, 1605],\n",
       "       [2000, 1746],\n",
       "       [1600, 1235],\n",
       "       [1600, 1390],\n",
       "       [1600, 1405],\n",
       "       [2500, 1395]], dtype=int64)"
      ]
     },
     "execution_count": 34,
     "metadata": {},
     "output_type": "execute_result"
    }
   ],
   "source": [
    "x"
   ]
  },
  {
   "cell_type": "code",
   "execution_count": 35,
   "id": "9a814ee1",
   "metadata": {},
   "outputs": [
    {
     "data": {
      "text/plain": [
       "array([ 99,  95,  95,  90, 105, 105,  90,  92,  98,  99,  99, 101,  99,\n",
       "        94,  97,  97,  99, 104, 104, 105,  94,  99,  99,  99,  99, 102,\n",
       "       104, 114, 109, 114, 115, 117, 104, 108, 109, 120], dtype=int64)"
      ]
     },
     "execution_count": 35,
     "metadata": {},
     "output_type": "execute_result"
    }
   ],
   "source": [
    "y"
   ]
  },
  {
   "cell_type": "markdown",
   "id": "28924e89",
   "metadata": {},
   "source": [
    "### MLR using statsmodels"
   ]
  },
  {
   "cell_type": "markdown",
   "id": "89da3e6d",
   "metadata": {},
   "source": [
    "statsmodels.api"
   ]
  },
  {
   "cell_type": "code",
   "execution_count": 36,
   "id": "4fe8188d",
   "metadata": {},
   "outputs": [],
   "source": [
    "import statsmodels.api as sm"
   ]
  },
  {
   "cell_type": "code",
   "execution_count": 37,
   "id": "7377176a",
   "metadata": {},
   "outputs": [],
   "source": [
    "x_stat = sm.add_constant(x)"
   ]
  },
  {
   "cell_type": "code",
   "execution_count": 38,
   "id": "0edf1b43",
   "metadata": {},
   "outputs": [
    {
     "data": {
      "text/plain": [
       "array([[1.000e+00, 1.000e+03, 7.900e+02],\n",
       "       [1.000e+00, 1.200e+03, 1.160e+03],\n",
       "       [1.000e+00, 1.000e+03, 9.290e+02],\n",
       "       [1.000e+00, 9.000e+02, 8.650e+02],\n",
       "       [1.000e+00, 1.500e+03, 1.140e+03],\n",
       "       [1.000e+00, 1.000e+03, 9.290e+02],\n",
       "       [1.000e+00, 1.400e+03, 1.109e+03],\n",
       "       [1.000e+00, 1.500e+03, 1.365e+03],\n",
       "       [1.000e+00, 1.500e+03, 1.112e+03],\n",
       "       [1.000e+00, 1.600e+03, 1.150e+03],\n",
       "       [1.000e+00, 1.100e+03, 9.800e+02],\n",
       "       [1.000e+00, 1.300e+03, 9.900e+02],\n",
       "       [1.000e+00, 1.000e+03, 1.112e+03],\n",
       "       [1.000e+00, 1.600e+03, 1.252e+03],\n",
       "       [1.000e+00, 1.600e+03, 1.326e+03],\n",
       "       [1.000e+00, 1.600e+03, 1.330e+03],\n",
       "       [1.000e+00, 1.600e+03, 1.365e+03],\n",
       "       [1.000e+00, 2.200e+03, 1.280e+03],\n",
       "       [1.000e+00, 1.600e+03, 1.119e+03],\n",
       "       [1.000e+00, 2.000e+03, 1.328e+03],\n",
       "       [1.000e+00, 1.600e+03, 1.584e+03],\n",
       "       [1.000e+00, 2.000e+03, 1.428e+03],\n",
       "       [1.000e+00, 2.100e+03, 1.365e+03],\n",
       "       [1.000e+00, 1.600e+03, 1.415e+03],\n",
       "       [1.000e+00, 2.000e+03, 1.415e+03],\n",
       "       [1.000e+00, 1.500e+03, 1.465e+03],\n",
       "       [1.000e+00, 2.000e+03, 1.490e+03],\n",
       "       [1.000e+00, 2.000e+03, 1.725e+03],\n",
       "       [1.000e+00, 1.600e+03, 1.523e+03],\n",
       "       [1.000e+00, 2.000e+03, 1.705e+03],\n",
       "       [1.000e+00, 2.100e+03, 1.605e+03],\n",
       "       [1.000e+00, 2.000e+03, 1.746e+03],\n",
       "       [1.000e+00, 1.600e+03, 1.235e+03],\n",
       "       [1.000e+00, 1.600e+03, 1.390e+03],\n",
       "       [1.000e+00, 1.600e+03, 1.405e+03],\n",
       "       [1.000e+00, 2.500e+03, 1.395e+03]])"
      ]
     },
     "execution_count": 38,
     "metadata": {},
     "output_type": "execute_result"
    }
   ],
   "source": [
    "x_stat"
   ]
  },
  {
   "cell_type": "code",
   "execution_count": 39,
   "id": "ba777c20",
   "metadata": {},
   "outputs": [],
   "source": [
    "MLR =sm.OLS(y,x_stat).fit()"
   ]
  },
  {
   "cell_type": "code",
   "execution_count": 40,
   "id": "978e90e6",
   "metadata": {},
   "outputs": [
    {
     "data": {
      "text/html": [
       "<table class=\"simpletable\">\n",
       "<caption>OLS Regression Results</caption>\n",
       "<tr>\n",
       "  <th>Dep. Variable:</th>            <td>y</td>        <th>  R-squared:         </th> <td>   0.377</td>\n",
       "</tr>\n",
       "<tr>\n",
       "  <th>Model:</th>                   <td>OLS</td>       <th>  Adj. R-squared:    </th> <td>   0.339</td>\n",
       "</tr>\n",
       "<tr>\n",
       "  <th>Method:</th>             <td>Least Squares</td>  <th>  F-statistic:       </th> <td>   9.966</td>\n",
       "</tr>\n",
       "<tr>\n",
       "  <th>Date:</th>             <td>Wed, 12 Jul 2023</td> <th>  Prob (F-statistic):</th> <td>0.000411</td>\n",
       "</tr>\n",
       "<tr>\n",
       "  <th>Time:</th>                 <td>10:24:33</td>     <th>  Log-Likelihood:    </th> <td> -114.39</td>\n",
       "</tr>\n",
       "<tr>\n",
       "  <th>No. Observations:</th>      <td>    36</td>      <th>  AIC:               </th> <td>   234.8</td>\n",
       "</tr>\n",
       "<tr>\n",
       "  <th>Df Residuals:</th>          <td>    33</td>      <th>  BIC:               </th> <td>   239.5</td>\n",
       "</tr>\n",
       "<tr>\n",
       "  <th>Df Model:</th>              <td>     2</td>      <th>                     </th>     <td> </td>   \n",
       "</tr>\n",
       "<tr>\n",
       "  <th>Covariance Type:</th>      <td>nonrobust</td>    <th>                     </th>     <td> </td>   \n",
       "</tr>\n",
       "</table>\n",
       "<table class=\"simpletable\">\n",
       "<tr>\n",
       "    <td></td>       <th>coef</th>     <th>std err</th>      <th>t</th>      <th>P>|t|</th>  <th>[0.025</th>    <th>0.975]</th>  \n",
       "</tr>\n",
       "<tr>\n",
       "  <th>const</th> <td>   79.6947</td> <td>    5.564</td> <td>   14.322</td> <td> 0.000</td> <td>   68.374</td> <td>   91.016</td>\n",
       "</tr>\n",
       "<tr>\n",
       "  <th>x1</th>    <td>    0.0078</td> <td>    0.004</td> <td>    1.948</td> <td> 0.060</td> <td>   -0.000</td> <td>    0.016</td>\n",
       "</tr>\n",
       "<tr>\n",
       "  <th>x2</th>    <td>    0.0076</td> <td>    0.006</td> <td>    1.173</td> <td> 0.249</td> <td>   -0.006</td> <td>    0.021</td>\n",
       "</tr>\n",
       "</table>\n",
       "<table class=\"simpletable\">\n",
       "<tr>\n",
       "  <th>Omnibus:</th>       <td> 4.957</td> <th>  Durbin-Watson:     </th> <td>   0.944</td>\n",
       "</tr>\n",
       "<tr>\n",
       "  <th>Prob(Omnibus):</th> <td> 0.084</td> <th>  Jarque-Bera (JB):  </th> <td>   1.836</td>\n",
       "</tr>\n",
       "<tr>\n",
       "  <th>Skew:</th>          <td>-0.025</td> <th>  Prob(JB):          </th> <td>   0.399</td>\n",
       "</tr>\n",
       "<tr>\n",
       "  <th>Kurtosis:</th>      <td> 1.895</td> <th>  Cond. No.          </th> <td>1.16e+04</td>\n",
       "</tr>\n",
       "</table><br/><br/>Notes:<br/>[1] Standard Errors assume that the covariance matrix of the errors is correctly specified.<br/>[2] The condition number is large, 1.16e+04. This might indicate that there are<br/>strong multicollinearity or other numerical problems."
      ],
      "text/plain": [
       "<class 'statsmodels.iolib.summary.Summary'>\n",
       "\"\"\"\n",
       "                            OLS Regression Results                            \n",
       "==============================================================================\n",
       "Dep. Variable:                      y   R-squared:                       0.377\n",
       "Model:                            OLS   Adj. R-squared:                  0.339\n",
       "Method:                 Least Squares   F-statistic:                     9.966\n",
       "Date:                Wed, 12 Jul 2023   Prob (F-statistic):           0.000411\n",
       "Time:                        10:24:33   Log-Likelihood:                -114.39\n",
       "No. Observations:                  36   AIC:                             234.8\n",
       "Df Residuals:                      33   BIC:                             239.5\n",
       "Df Model:                           2                                         \n",
       "Covariance Type:            nonrobust                                         \n",
       "==============================================================================\n",
       "                 coef    std err          t      P>|t|      [0.025      0.975]\n",
       "------------------------------------------------------------------------------\n",
       "const         79.6947      5.564     14.322      0.000      68.374      91.016\n",
       "x1             0.0078      0.004      1.948      0.060      -0.000       0.016\n",
       "x2             0.0076      0.006      1.173      0.249      -0.006       0.021\n",
       "==============================================================================\n",
       "Omnibus:                        4.957   Durbin-Watson:                   0.944\n",
       "Prob(Omnibus):                  0.084   Jarque-Bera (JB):                1.836\n",
       "Skew:                          -0.025   Prob(JB):                        0.399\n",
       "Kurtosis:                       1.895   Cond. No.                     1.16e+04\n",
       "==============================================================================\n",
       "\n",
       "Notes:\n",
       "[1] Standard Errors assume that the covariance matrix of the errors is correctly specified.\n",
       "[2] The condition number is large, 1.16e+04. This might indicate that there are\n",
       "strong multicollinearity or other numerical problems.\n",
       "\"\"\""
      ]
     },
     "execution_count": 40,
     "metadata": {},
     "output_type": "execute_result"
    }
   ],
   "source": [
    "MLR.summary()"
   ]
  },
  {
   "cell_type": "markdown",
   "id": "0113e69e",
   "metadata": {},
   "source": [
    "### Making the Predictions"
   ]
  },
  {
   "cell_type": "code",
   "execution_count": 41,
   "id": "e3db14b5",
   "metadata": {},
   "outputs": [
    {
     "data": {
      "text/plain": [
       "array([ 93.46522516,  97.82012716,  94.51480683,  93.25102045,\n",
       "       100.01068547,  94.51480683,  98.99608035, 101.70964861,\n",
       "        99.79925895, 100.8667207 ,  95.6804309 ,  97.31699187,\n",
       "        95.89663018, 101.63691732, 102.19568742, 102.22589121,\n",
       "       102.49017436, 106.53149836, 100.63264133, 105.33289232,\n",
       "       104.14383181, 106.08798705, 106.39280312, 102.86772172,\n",
       "       105.98982473, 102.46474333, 106.55614578, 108.33061839,\n",
       "       103.68322403, 108.17959944, 108.20503047, 108.48918828,\n",
       "       101.50855121, 102.67894804, 102.79221225, 109.74143455])"
      ]
     },
     "execution_count": 41,
     "metadata": {},
     "output_type": "execute_result"
    }
   ],
   "source": [
    "MLR.predict(x_stat)"
   ]
  },
  {
   "cell_type": "markdown",
   "id": "1a3b1b07",
   "metadata": {},
   "source": [
    "statsmodel.formula.api"
   ]
  },
  {
   "cell_type": "code",
   "execution_count": 42,
   "id": "928f0b95",
   "metadata": {},
   "outputs": [],
   "source": [
    "import statsmodels.formula.api as smf"
   ]
  },
  {
   "cell_type": "code",
   "execution_count": 43,
   "id": "f53f925e",
   "metadata": {},
   "outputs": [],
   "source": [
    "model_smf = smf.ols(formula='CO2 ~Weight+Volume',data=data)"
   ]
  },
  {
   "cell_type": "code",
   "execution_count": 44,
   "id": "3180e763",
   "metadata": {},
   "outputs": [],
   "source": [
    "result_smf = model_smf.fit()"
   ]
  },
  {
   "cell_type": "code",
   "execution_count": 45,
   "id": "3f31e7d6",
   "metadata": {},
   "outputs": [
    {
     "data": {
      "text/html": [
       "<table class=\"simpletable\">\n",
       "<caption>OLS Regression Results</caption>\n",
       "<tr>\n",
       "  <th>Dep. Variable:</th>           <td>CO2</td>       <th>  R-squared:         </th> <td>   0.377</td>\n",
       "</tr>\n",
       "<tr>\n",
       "  <th>Model:</th>                   <td>OLS</td>       <th>  Adj. R-squared:    </th> <td>   0.339</td>\n",
       "</tr>\n",
       "<tr>\n",
       "  <th>Method:</th>             <td>Least Squares</td>  <th>  F-statistic:       </th> <td>   9.966</td>\n",
       "</tr>\n",
       "<tr>\n",
       "  <th>Date:</th>             <td>Wed, 12 Jul 2023</td> <th>  Prob (F-statistic):</th> <td>0.000411</td>\n",
       "</tr>\n",
       "<tr>\n",
       "  <th>Time:</th>                 <td>10:24:33</td>     <th>  Log-Likelihood:    </th> <td> -114.39</td>\n",
       "</tr>\n",
       "<tr>\n",
       "  <th>No. Observations:</th>      <td>    36</td>      <th>  AIC:               </th> <td>   234.8</td>\n",
       "</tr>\n",
       "<tr>\n",
       "  <th>Df Residuals:</th>          <td>    33</td>      <th>  BIC:               </th> <td>   239.5</td>\n",
       "</tr>\n",
       "<tr>\n",
       "  <th>Df Model:</th>              <td>     2</td>      <th>                     </th>     <td> </td>   \n",
       "</tr>\n",
       "<tr>\n",
       "  <th>Covariance Type:</th>      <td>nonrobust</td>    <th>                     </th>     <td> </td>   \n",
       "</tr>\n",
       "</table>\n",
       "<table class=\"simpletable\">\n",
       "<tr>\n",
       "      <td></td>         <th>coef</th>     <th>std err</th>      <th>t</th>      <th>P>|t|</th>  <th>[0.025</th>    <th>0.975]</th>  \n",
       "</tr>\n",
       "<tr>\n",
       "  <th>Intercept</th> <td>   79.6947</td> <td>    5.564</td> <td>   14.322</td> <td> 0.000</td> <td>   68.374</td> <td>   91.016</td>\n",
       "</tr>\n",
       "<tr>\n",
       "  <th>Weight</th>    <td>    0.0076</td> <td>    0.006</td> <td>    1.173</td> <td> 0.249</td> <td>   -0.006</td> <td>    0.021</td>\n",
       "</tr>\n",
       "<tr>\n",
       "  <th>Volume</th>    <td>    0.0078</td> <td>    0.004</td> <td>    1.948</td> <td> 0.060</td> <td>   -0.000</td> <td>    0.016</td>\n",
       "</tr>\n",
       "</table>\n",
       "<table class=\"simpletable\">\n",
       "<tr>\n",
       "  <th>Omnibus:</th>       <td> 4.957</td> <th>  Durbin-Watson:     </th> <td>   0.944</td>\n",
       "</tr>\n",
       "<tr>\n",
       "  <th>Prob(Omnibus):</th> <td> 0.084</td> <th>  Jarque-Bera (JB):  </th> <td>   1.836</td>\n",
       "</tr>\n",
       "<tr>\n",
       "  <th>Skew:</th>          <td>-0.025</td> <th>  Prob(JB):          </th> <td>   0.399</td>\n",
       "</tr>\n",
       "<tr>\n",
       "  <th>Kurtosis:</th>      <td> 1.895</td> <th>  Cond. No.          </th> <td>1.16e+04</td>\n",
       "</tr>\n",
       "</table><br/><br/>Notes:<br/>[1] Standard Errors assume that the covariance matrix of the errors is correctly specified.<br/>[2] The condition number is large, 1.16e+04. This might indicate that there are<br/>strong multicollinearity or other numerical problems."
      ],
      "text/plain": [
       "<class 'statsmodels.iolib.summary.Summary'>\n",
       "\"\"\"\n",
       "                            OLS Regression Results                            \n",
       "==============================================================================\n",
       "Dep. Variable:                    CO2   R-squared:                       0.377\n",
       "Model:                            OLS   Adj. R-squared:                  0.339\n",
       "Method:                 Least Squares   F-statistic:                     9.966\n",
       "Date:                Wed, 12 Jul 2023   Prob (F-statistic):           0.000411\n",
       "Time:                        10:24:33   Log-Likelihood:                -114.39\n",
       "No. Observations:                  36   AIC:                             234.8\n",
       "Df Residuals:                      33   BIC:                             239.5\n",
       "Df Model:                           2                                         \n",
       "Covariance Type:            nonrobust                                         \n",
       "==============================================================================\n",
       "                 coef    std err          t      P>|t|      [0.025      0.975]\n",
       "------------------------------------------------------------------------------\n",
       "Intercept     79.6947      5.564     14.322      0.000      68.374      91.016\n",
       "Weight         0.0076      0.006      1.173      0.249      -0.006       0.021\n",
       "Volume         0.0078      0.004      1.948      0.060      -0.000       0.016\n",
       "==============================================================================\n",
       "Omnibus:                        4.957   Durbin-Watson:                   0.944\n",
       "Prob(Omnibus):                  0.084   Jarque-Bera (JB):                1.836\n",
       "Skew:                          -0.025   Prob(JB):                        0.399\n",
       "Kurtosis:                       1.895   Cond. No.                     1.16e+04\n",
       "==============================================================================\n",
       "\n",
       "Notes:\n",
       "[1] Standard Errors assume that the covariance matrix of the errors is correctly specified.\n",
       "[2] The condition number is large, 1.16e+04. This might indicate that there are\n",
       "strong multicollinearity or other numerical problems.\n",
       "\"\"\""
      ]
     },
     "execution_count": 45,
     "metadata": {},
     "output_type": "execute_result"
    }
   ],
   "source": [
    "result_smf.summary()"
   ]
  },
  {
   "cell_type": "code",
   "execution_count": 46,
   "id": "3b744ca2",
   "metadata": {},
   "outputs": [],
   "source": [
    "y_pred_sm = result_smf.predict(data[['Volume','Weight']])"
   ]
  },
  {
   "cell_type": "code",
   "execution_count": 47,
   "id": "770fdc12",
   "metadata": {},
   "outputs": [
    {
     "data": {
      "text/plain": [
       "0      93.465225\n",
       "1      97.820127\n",
       "2      94.514807\n",
       "3      93.251020\n",
       "4     100.010685\n",
       "5      94.514807\n",
       "6      98.996080\n",
       "7     101.709649\n",
       "8      99.799259\n",
       "9     100.866721\n",
       "10     95.680431\n",
       "11     97.316992\n",
       "12     95.896630\n",
       "13    101.636917\n",
       "14    102.195687\n",
       "15    102.225891\n",
       "16    102.490174\n",
       "17    106.531498\n",
       "18    100.632641\n",
       "19    105.332892\n",
       "20    104.143832\n",
       "21    106.087987\n",
       "22    106.392803\n",
       "23    102.867722\n",
       "24    105.989825\n",
       "25    102.464743\n",
       "26    106.556146\n",
       "27    108.330618\n",
       "28    103.683224\n",
       "29    108.179599\n",
       "30    108.205030\n",
       "31    108.489188\n",
       "32    101.508551\n",
       "33    102.678948\n",
       "34    102.792212\n",
       "35    109.741435\n",
       "dtype: float64"
      ]
     },
     "execution_count": 47,
     "metadata": {},
     "output_type": "execute_result"
    }
   ],
   "source": [
    "y_pred_sm"
   ]
  },
  {
   "cell_type": "markdown",
   "id": "9a8573ed",
   "metadata": {},
   "source": [
    "### Regression using Scikit-Learn module"
   ]
  },
  {
   "cell_type": "markdown",
   "id": "b4875a23",
   "metadata": {},
   "source": [
    "### Importing the scikit learn mode\n"
   ]
  },
  {
   "cell_type": "code",
   "execution_count": 48,
   "id": "02db7ae1",
   "metadata": {},
   "outputs": [],
   "source": [
    "from sklearn.linear_model import LinearRegression"
   ]
  },
  {
   "cell_type": "markdown",
   "id": "ff419abf",
   "metadata": {},
   "source": [
    "### Initalising the model"
   ]
  },
  {
   "cell_type": "code",
   "execution_count": 49,
   "id": "6ae92b04",
   "metadata": {},
   "outputs": [],
   "source": [
    "LR =LinearRegression()"
   ]
  },
  {
   "cell_type": "code",
   "execution_count": 50,
   "id": "499e6475",
   "metadata": {},
   "outputs": [
    {
     "data": {
      "text/html": [
       "<style>#sk-container-id-1 {color: black;background-color: white;}#sk-container-id-1 pre{padding: 0;}#sk-container-id-1 div.sk-toggleable {background-color: white;}#sk-container-id-1 label.sk-toggleable__label {cursor: pointer;display: block;width: 100%;margin-bottom: 0;padding: 0.3em;box-sizing: border-box;text-align: center;}#sk-container-id-1 label.sk-toggleable__label-arrow:before {content: \"▸\";float: left;margin-right: 0.25em;color: #696969;}#sk-container-id-1 label.sk-toggleable__label-arrow:hover:before {color: black;}#sk-container-id-1 div.sk-estimator:hover label.sk-toggleable__label-arrow:before {color: black;}#sk-container-id-1 div.sk-toggleable__content {max-height: 0;max-width: 0;overflow: hidden;text-align: left;background-color: #f0f8ff;}#sk-container-id-1 div.sk-toggleable__content pre {margin: 0.2em;color: black;border-radius: 0.25em;background-color: #f0f8ff;}#sk-container-id-1 input.sk-toggleable__control:checked~div.sk-toggleable__content {max-height: 200px;max-width: 100%;overflow: auto;}#sk-container-id-1 input.sk-toggleable__control:checked~label.sk-toggleable__label-arrow:before {content: \"▾\";}#sk-container-id-1 div.sk-estimator input.sk-toggleable__control:checked~label.sk-toggleable__label {background-color: #d4ebff;}#sk-container-id-1 div.sk-label input.sk-toggleable__control:checked~label.sk-toggleable__label {background-color: #d4ebff;}#sk-container-id-1 input.sk-hidden--visually {border: 0;clip: rect(1px 1px 1px 1px);clip: rect(1px, 1px, 1px, 1px);height: 1px;margin: -1px;overflow: hidden;padding: 0;position: absolute;width: 1px;}#sk-container-id-1 div.sk-estimator {font-family: monospace;background-color: #f0f8ff;border: 1px dotted black;border-radius: 0.25em;box-sizing: border-box;margin-bottom: 0.5em;}#sk-container-id-1 div.sk-estimator:hover {background-color: #d4ebff;}#sk-container-id-1 div.sk-parallel-item::after {content: \"\";width: 100%;border-bottom: 1px solid gray;flex-grow: 1;}#sk-container-id-1 div.sk-label:hover label.sk-toggleable__label {background-color: #d4ebff;}#sk-container-id-1 div.sk-serial::before {content: \"\";position: absolute;border-left: 1px solid gray;box-sizing: border-box;top: 0;bottom: 0;left: 50%;z-index: 0;}#sk-container-id-1 div.sk-serial {display: flex;flex-direction: column;align-items: center;background-color: white;padding-right: 0.2em;padding-left: 0.2em;position: relative;}#sk-container-id-1 div.sk-item {position: relative;z-index: 1;}#sk-container-id-1 div.sk-parallel {display: flex;align-items: stretch;justify-content: center;background-color: white;position: relative;}#sk-container-id-1 div.sk-item::before, #sk-container-id-1 div.sk-parallel-item::before {content: \"\";position: absolute;border-left: 1px solid gray;box-sizing: border-box;top: 0;bottom: 0;left: 50%;z-index: -1;}#sk-container-id-1 div.sk-parallel-item {display: flex;flex-direction: column;z-index: 1;position: relative;background-color: white;}#sk-container-id-1 div.sk-parallel-item:first-child::after {align-self: flex-end;width: 50%;}#sk-container-id-1 div.sk-parallel-item:last-child::after {align-self: flex-start;width: 50%;}#sk-container-id-1 div.sk-parallel-item:only-child::after {width: 0;}#sk-container-id-1 div.sk-dashed-wrapped {border: 1px dashed gray;margin: 0 0.4em 0.5em 0.4em;box-sizing: border-box;padding-bottom: 0.4em;background-color: white;}#sk-container-id-1 div.sk-label label {font-family: monospace;font-weight: bold;display: inline-block;line-height: 1.2em;}#sk-container-id-1 div.sk-label-container {text-align: center;}#sk-container-id-1 div.sk-container {/* jupyter's `normalize.less` sets `[hidden] { display: none; }` but bootstrap.min.css set `[hidden] { display: none !important; }` so we also need the `!important` here to be able to override the default hidden behavior on the sphinx rendered scikit-learn.org. See: https://github.com/scikit-learn/scikit-learn/issues/21755 */display: inline-block !important;position: relative;}#sk-container-id-1 div.sk-text-repr-fallback {display: none;}</style><div id=\"sk-container-id-1\" class=\"sk-top-container\"><div class=\"sk-text-repr-fallback\"><pre>LinearRegression()</pre><b>In a Jupyter environment, please rerun this cell to show the HTML representation or trust the notebook. <br />On GitHub, the HTML representation is unable to render, please try loading this page with nbviewer.org.</b></div><div class=\"sk-container\" hidden><div class=\"sk-item\"><div class=\"sk-estimator sk-toggleable\"><input class=\"sk-toggleable__control sk-hidden--visually\" id=\"sk-estimator-id-1\" type=\"checkbox\" checked><label for=\"sk-estimator-id-1\" class=\"sk-toggleable__label sk-toggleable__label-arrow\">LinearRegression</label><div class=\"sk-toggleable__content\"><pre>LinearRegression()</pre></div></div></div></div></div>"
      ],
      "text/plain": [
       "LinearRegression()"
      ]
     },
     "execution_count": 50,
     "metadata": {},
     "output_type": "execute_result"
    }
   ],
   "source": [
    "LR.fit(x,y)"
   ]
  },
  {
   "cell_type": "code",
   "execution_count": 51,
   "id": "d6f79380",
   "metadata": {},
   "outputs": [
    {
     "data": {
      "text/plain": [
       "array([0.00780526, 0.00755095])"
      ]
     },
     "execution_count": 51,
     "metadata": {},
     "output_type": "execute_result"
    }
   ],
   "source": [
    "LR.coef_"
   ]
  },
  {
   "cell_type": "code",
   "execution_count": 52,
   "id": "7037c2ff",
   "metadata": {},
   "outputs": [
    {
     "data": {
      "text/plain": [
       "0.3765564043619989"
      ]
     },
     "execution_count": 52,
     "metadata": {},
     "output_type": "execute_result"
    }
   ],
   "source": [
    "LR.score(x,y)"
   ]
  },
  {
   "cell_type": "markdown",
   "id": "5b7cf158",
   "metadata": {},
   "source": [
    "### Making prediction on entire X"
   ]
  },
  {
   "cell_type": "code",
   "execution_count": 53,
   "id": "1771df00",
   "metadata": {},
   "outputs": [],
   "source": [
    "y_pred = LR.predict(x)"
   ]
  },
  {
   "cell_type": "code",
   "execution_count": 54,
   "id": "733fab1a",
   "metadata": {},
   "outputs": [
    {
     "data": {
      "text/plain": [
       "array([ 93.46522516,  97.82012716,  94.51480683,  93.25102045,\n",
       "       100.01068547,  94.51480683,  98.99608035, 101.70964861,\n",
       "        99.79925895, 100.8667207 ,  95.6804309 ,  97.31699187,\n",
       "        95.89663018, 101.63691732, 102.19568742, 102.22589121,\n",
       "       102.49017436, 106.53149836, 100.63264133, 105.33289232,\n",
       "       104.14383181, 106.08798705, 106.39280312, 102.86772172,\n",
       "       105.98982473, 102.46474333, 106.55614578, 108.33061839,\n",
       "       103.68322403, 108.17959944, 108.20503047, 108.48918828,\n",
       "       101.50855121, 102.67894804, 102.79221225, 109.74143455])"
      ]
     },
     "execution_count": 54,
     "metadata": {},
     "output_type": "execute_result"
    }
   ],
   "source": [
    "y_pred"
   ]
  },
  {
   "cell_type": "code",
   "execution_count": 55,
   "id": "5e1854c4",
   "metadata": {},
   "outputs": [
    {
     "data": {
      "text/plain": [
       "0.3765564043619989"
      ]
     },
     "execution_count": 55,
     "metadata": {},
     "output_type": "execute_result"
    }
   ],
   "source": [
    "r2_score(y,y_pred)"
   ]
  },
  {
   "cell_type": "code",
   "execution_count": 56,
   "id": "c0a7f022",
   "metadata": {},
   "outputs": [],
   "source": [
    "from pydataset import data"
   ]
  },
  {
   "cell_type": "code",
   "execution_count": 57,
   "id": "84266c41",
   "metadata": {},
   "outputs": [
    {
     "data": {
      "text/html": [
       "<div>\n",
       "<style scoped>\n",
       "    .dataframe tbody tr th:only-of-type {\n",
       "        vertical-align: middle;\n",
       "    }\n",
       "\n",
       "    .dataframe tbody tr th {\n",
       "        vertical-align: top;\n",
       "    }\n",
       "\n",
       "    .dataframe thead th {\n",
       "        text-align: right;\n",
       "    }\n",
       "</style>\n",
       "<table border=\"1\" class=\"dataframe\">\n",
       "  <thead>\n",
       "    <tr style=\"text-align: right;\">\n",
       "      <th></th>\n",
       "      <th>dataset_id</th>\n",
       "      <th>title</th>\n",
       "    </tr>\n",
       "  </thead>\n",
       "  <tbody>\n",
       "    <tr>\n",
       "      <th>0</th>\n",
       "      <td>AirPassengers</td>\n",
       "      <td>Monthly Airline Passenger Numbers 1949-1960</td>\n",
       "    </tr>\n",
       "    <tr>\n",
       "      <th>1</th>\n",
       "      <td>BJsales</td>\n",
       "      <td>Sales Data with Leading Indicator</td>\n",
       "    </tr>\n",
       "    <tr>\n",
       "      <th>2</th>\n",
       "      <td>BOD</td>\n",
       "      <td>Biochemical Oxygen Demand</td>\n",
       "    </tr>\n",
       "    <tr>\n",
       "      <th>3</th>\n",
       "      <td>Formaldehyde</td>\n",
       "      <td>Determination of Formaldehyde</td>\n",
       "    </tr>\n",
       "    <tr>\n",
       "      <th>4</th>\n",
       "      <td>HairEyeColor</td>\n",
       "      <td>Hair and Eye Color of Statistics Students</td>\n",
       "    </tr>\n",
       "    <tr>\n",
       "      <th>...</th>\n",
       "      <td>...</td>\n",
       "      <td>...</td>\n",
       "    </tr>\n",
       "    <tr>\n",
       "      <th>752</th>\n",
       "      <td>VerbAgg</td>\n",
       "      <td>Verbal Aggression item responses</td>\n",
       "    </tr>\n",
       "    <tr>\n",
       "      <th>753</th>\n",
       "      <td>cake</td>\n",
       "      <td>Breakage Angle of Chocolate Cakes</td>\n",
       "    </tr>\n",
       "    <tr>\n",
       "      <th>754</th>\n",
       "      <td>cbpp</td>\n",
       "      <td>Contagious bovine pleuropneumonia</td>\n",
       "    </tr>\n",
       "    <tr>\n",
       "      <th>755</th>\n",
       "      <td>grouseticks</td>\n",
       "      <td>Data on red grouse ticks from Elston et al. 2001</td>\n",
       "    </tr>\n",
       "    <tr>\n",
       "      <th>756</th>\n",
       "      <td>sleepstudy</td>\n",
       "      <td>Reaction times in a sleep deprivation study</td>\n",
       "    </tr>\n",
       "  </tbody>\n",
       "</table>\n",
       "<p>757 rows × 2 columns</p>\n",
       "</div>"
      ],
      "text/plain": [
       "        dataset_id                                             title\n",
       "0    AirPassengers       Monthly Airline Passenger Numbers 1949-1960\n",
       "1          BJsales                 Sales Data with Leading Indicator\n",
       "2              BOD                         Biochemical Oxygen Demand\n",
       "3     Formaldehyde                     Determination of Formaldehyde\n",
       "4     HairEyeColor         Hair and Eye Color of Statistics Students\n",
       "..             ...                                               ...\n",
       "752        VerbAgg                  Verbal Aggression item responses\n",
       "753           cake                 Breakage Angle of Chocolate Cakes\n",
       "754           cbpp                 Contagious bovine pleuropneumonia\n",
       "755    grouseticks  Data on red grouse ticks from Elston et al. 2001\n",
       "756     sleepstudy       Reaction times in a sleep deprivation study\n",
       "\n",
       "[757 rows x 2 columns]"
      ]
     },
     "execution_count": 57,
     "metadata": {},
     "output_type": "execute_result"
    }
   ],
   "source": [
    "data()"
   ]
  },
  {
   "cell_type": "code",
   "execution_count": 58,
   "id": "9fe7b4ff",
   "metadata": {},
   "outputs": [
    {
     "data": {
      "text/html": [
       "<div>\n",
       "<style scoped>\n",
       "    .dataframe tbody tr th:only-of-type {\n",
       "        vertical-align: middle;\n",
       "    }\n",
       "\n",
       "    .dataframe tbody tr th {\n",
       "        vertical-align: top;\n",
       "    }\n",
       "\n",
       "    .dataframe thead th {\n",
       "        text-align: right;\n",
       "    }\n",
       "</style>\n",
       "<table border=\"1\" class=\"dataframe\">\n",
       "  <thead>\n",
       "    <tr style=\"text-align: right;\">\n",
       "      <th></th>\n",
       "      <th>time</th>\n",
       "      <th>AirPassengers</th>\n",
       "    </tr>\n",
       "  </thead>\n",
       "  <tbody>\n",
       "    <tr>\n",
       "      <th>1</th>\n",
       "      <td>1949.000000</td>\n",
       "      <td>112</td>\n",
       "    </tr>\n",
       "    <tr>\n",
       "      <th>2</th>\n",
       "      <td>1949.083333</td>\n",
       "      <td>118</td>\n",
       "    </tr>\n",
       "    <tr>\n",
       "      <th>3</th>\n",
       "      <td>1949.166667</td>\n",
       "      <td>132</td>\n",
       "    </tr>\n",
       "    <tr>\n",
       "      <th>4</th>\n",
       "      <td>1949.250000</td>\n",
       "      <td>129</td>\n",
       "    </tr>\n",
       "    <tr>\n",
       "      <th>5</th>\n",
       "      <td>1949.333333</td>\n",
       "      <td>121</td>\n",
       "    </tr>\n",
       "    <tr>\n",
       "      <th>6</th>\n",
       "      <td>1949.416667</td>\n",
       "      <td>135</td>\n",
       "    </tr>\n",
       "    <tr>\n",
       "      <th>7</th>\n",
       "      <td>1949.500000</td>\n",
       "      <td>148</td>\n",
       "    </tr>\n",
       "    <tr>\n",
       "      <th>8</th>\n",
       "      <td>1949.583333</td>\n",
       "      <td>148</td>\n",
       "    </tr>\n",
       "    <tr>\n",
       "      <th>9</th>\n",
       "      <td>1949.666667</td>\n",
       "      <td>136</td>\n",
       "    </tr>\n",
       "    <tr>\n",
       "      <th>10</th>\n",
       "      <td>1949.750000</td>\n",
       "      <td>119</td>\n",
       "    </tr>\n",
       "    <tr>\n",
       "      <th>11</th>\n",
       "      <td>1949.833333</td>\n",
       "      <td>104</td>\n",
       "    </tr>\n",
       "    <tr>\n",
       "      <th>12</th>\n",
       "      <td>1949.916667</td>\n",
       "      <td>118</td>\n",
       "    </tr>\n",
       "    <tr>\n",
       "      <th>13</th>\n",
       "      <td>1950.000000</td>\n",
       "      <td>115</td>\n",
       "    </tr>\n",
       "    <tr>\n",
       "      <th>14</th>\n",
       "      <td>1950.083333</td>\n",
       "      <td>126</td>\n",
       "    </tr>\n",
       "    <tr>\n",
       "      <th>15</th>\n",
       "      <td>1950.166667</td>\n",
       "      <td>141</td>\n",
       "    </tr>\n",
       "    <tr>\n",
       "      <th>16</th>\n",
       "      <td>1950.250000</td>\n",
       "      <td>135</td>\n",
       "    </tr>\n",
       "    <tr>\n",
       "      <th>17</th>\n",
       "      <td>1950.333333</td>\n",
       "      <td>125</td>\n",
       "    </tr>\n",
       "    <tr>\n",
       "      <th>18</th>\n",
       "      <td>1950.416667</td>\n",
       "      <td>149</td>\n",
       "    </tr>\n",
       "    <tr>\n",
       "      <th>19</th>\n",
       "      <td>1950.500000</td>\n",
       "      <td>170</td>\n",
       "    </tr>\n",
       "    <tr>\n",
       "      <th>20</th>\n",
       "      <td>1950.583333</td>\n",
       "      <td>170</td>\n",
       "    </tr>\n",
       "    <tr>\n",
       "      <th>21</th>\n",
       "      <td>1950.666667</td>\n",
       "      <td>158</td>\n",
       "    </tr>\n",
       "    <tr>\n",
       "      <th>22</th>\n",
       "      <td>1950.750000</td>\n",
       "      <td>133</td>\n",
       "    </tr>\n",
       "    <tr>\n",
       "      <th>23</th>\n",
       "      <td>1950.833333</td>\n",
       "      <td>114</td>\n",
       "    </tr>\n",
       "    <tr>\n",
       "      <th>24</th>\n",
       "      <td>1950.916667</td>\n",
       "      <td>140</td>\n",
       "    </tr>\n",
       "    <tr>\n",
       "      <th>25</th>\n",
       "      <td>1951.000000</td>\n",
       "      <td>145</td>\n",
       "    </tr>\n",
       "    <tr>\n",
       "      <th>26</th>\n",
       "      <td>1951.083333</td>\n",
       "      <td>150</td>\n",
       "    </tr>\n",
       "    <tr>\n",
       "      <th>27</th>\n",
       "      <td>1951.166667</td>\n",
       "      <td>178</td>\n",
       "    </tr>\n",
       "    <tr>\n",
       "      <th>28</th>\n",
       "      <td>1951.250000</td>\n",
       "      <td>163</td>\n",
       "    </tr>\n",
       "    <tr>\n",
       "      <th>29</th>\n",
       "      <td>1951.333333</td>\n",
       "      <td>172</td>\n",
       "    </tr>\n",
       "    <tr>\n",
       "      <th>30</th>\n",
       "      <td>1951.416667</td>\n",
       "      <td>178</td>\n",
       "    </tr>\n",
       "    <tr>\n",
       "      <th>31</th>\n",
       "      <td>1951.500000</td>\n",
       "      <td>199</td>\n",
       "    </tr>\n",
       "    <tr>\n",
       "      <th>32</th>\n",
       "      <td>1951.583333</td>\n",
       "      <td>199</td>\n",
       "    </tr>\n",
       "    <tr>\n",
       "      <th>33</th>\n",
       "      <td>1951.666667</td>\n",
       "      <td>184</td>\n",
       "    </tr>\n",
       "    <tr>\n",
       "      <th>34</th>\n",
       "      <td>1951.750000</td>\n",
       "      <td>162</td>\n",
       "    </tr>\n",
       "    <tr>\n",
       "      <th>35</th>\n",
       "      <td>1951.833333</td>\n",
       "      <td>146</td>\n",
       "    </tr>\n",
       "    <tr>\n",
       "      <th>36</th>\n",
       "      <td>1951.916667</td>\n",
       "      <td>166</td>\n",
       "    </tr>\n",
       "    <tr>\n",
       "      <th>37</th>\n",
       "      <td>1952.000000</td>\n",
       "      <td>171</td>\n",
       "    </tr>\n",
       "    <tr>\n",
       "      <th>38</th>\n",
       "      <td>1952.083333</td>\n",
       "      <td>180</td>\n",
       "    </tr>\n",
       "    <tr>\n",
       "      <th>39</th>\n",
       "      <td>1952.166667</td>\n",
       "      <td>193</td>\n",
       "    </tr>\n",
       "    <tr>\n",
       "      <th>40</th>\n",
       "      <td>1952.250000</td>\n",
       "      <td>181</td>\n",
       "    </tr>\n",
       "    <tr>\n",
       "      <th>41</th>\n",
       "      <td>1952.333333</td>\n",
       "      <td>183</td>\n",
       "    </tr>\n",
       "    <tr>\n",
       "      <th>42</th>\n",
       "      <td>1952.416667</td>\n",
       "      <td>218</td>\n",
       "    </tr>\n",
       "    <tr>\n",
       "      <th>43</th>\n",
       "      <td>1952.500000</td>\n",
       "      <td>230</td>\n",
       "    </tr>\n",
       "    <tr>\n",
       "      <th>44</th>\n",
       "      <td>1952.583333</td>\n",
       "      <td>242</td>\n",
       "    </tr>\n",
       "    <tr>\n",
       "      <th>45</th>\n",
       "      <td>1952.666667</td>\n",
       "      <td>209</td>\n",
       "    </tr>\n",
       "    <tr>\n",
       "      <th>46</th>\n",
       "      <td>1952.750000</td>\n",
       "      <td>191</td>\n",
       "    </tr>\n",
       "    <tr>\n",
       "      <th>47</th>\n",
       "      <td>1952.833333</td>\n",
       "      <td>172</td>\n",
       "    </tr>\n",
       "    <tr>\n",
       "      <th>48</th>\n",
       "      <td>1952.916667</td>\n",
       "      <td>194</td>\n",
       "    </tr>\n",
       "    <tr>\n",
       "      <th>49</th>\n",
       "      <td>1953.000000</td>\n",
       "      <td>196</td>\n",
       "    </tr>\n",
       "    <tr>\n",
       "      <th>50</th>\n",
       "      <td>1953.083333</td>\n",
       "      <td>196</td>\n",
       "    </tr>\n",
       "    <tr>\n",
       "      <th>51</th>\n",
       "      <td>1953.166667</td>\n",
       "      <td>236</td>\n",
       "    </tr>\n",
       "    <tr>\n",
       "      <th>52</th>\n",
       "      <td>1953.250000</td>\n",
       "      <td>235</td>\n",
       "    </tr>\n",
       "    <tr>\n",
       "      <th>53</th>\n",
       "      <td>1953.333333</td>\n",
       "      <td>229</td>\n",
       "    </tr>\n",
       "    <tr>\n",
       "      <th>54</th>\n",
       "      <td>1953.416667</td>\n",
       "      <td>243</td>\n",
       "    </tr>\n",
       "    <tr>\n",
       "      <th>55</th>\n",
       "      <td>1953.500000</td>\n",
       "      <td>264</td>\n",
       "    </tr>\n",
       "    <tr>\n",
       "      <th>56</th>\n",
       "      <td>1953.583333</td>\n",
       "      <td>272</td>\n",
       "    </tr>\n",
       "    <tr>\n",
       "      <th>57</th>\n",
       "      <td>1953.666667</td>\n",
       "      <td>237</td>\n",
       "    </tr>\n",
       "    <tr>\n",
       "      <th>58</th>\n",
       "      <td>1953.750000</td>\n",
       "      <td>211</td>\n",
       "    </tr>\n",
       "    <tr>\n",
       "      <th>59</th>\n",
       "      <td>1953.833333</td>\n",
       "      <td>180</td>\n",
       "    </tr>\n",
       "    <tr>\n",
       "      <th>60</th>\n",
       "      <td>1953.916667</td>\n",
       "      <td>201</td>\n",
       "    </tr>\n",
       "    <tr>\n",
       "      <th>61</th>\n",
       "      <td>1954.000000</td>\n",
       "      <td>204</td>\n",
       "    </tr>\n",
       "    <tr>\n",
       "      <th>62</th>\n",
       "      <td>1954.083333</td>\n",
       "      <td>188</td>\n",
       "    </tr>\n",
       "    <tr>\n",
       "      <th>63</th>\n",
       "      <td>1954.166667</td>\n",
       "      <td>235</td>\n",
       "    </tr>\n",
       "    <tr>\n",
       "      <th>64</th>\n",
       "      <td>1954.250000</td>\n",
       "      <td>227</td>\n",
       "    </tr>\n",
       "    <tr>\n",
       "      <th>65</th>\n",
       "      <td>1954.333333</td>\n",
       "      <td>234</td>\n",
       "    </tr>\n",
       "    <tr>\n",
       "      <th>66</th>\n",
       "      <td>1954.416667</td>\n",
       "      <td>264</td>\n",
       "    </tr>\n",
       "    <tr>\n",
       "      <th>67</th>\n",
       "      <td>1954.500000</td>\n",
       "      <td>302</td>\n",
       "    </tr>\n",
       "    <tr>\n",
       "      <th>68</th>\n",
       "      <td>1954.583333</td>\n",
       "      <td>293</td>\n",
       "    </tr>\n",
       "    <tr>\n",
       "      <th>69</th>\n",
       "      <td>1954.666667</td>\n",
       "      <td>259</td>\n",
       "    </tr>\n",
       "    <tr>\n",
       "      <th>70</th>\n",
       "      <td>1954.750000</td>\n",
       "      <td>229</td>\n",
       "    </tr>\n",
       "    <tr>\n",
       "      <th>71</th>\n",
       "      <td>1954.833333</td>\n",
       "      <td>203</td>\n",
       "    </tr>\n",
       "    <tr>\n",
       "      <th>72</th>\n",
       "      <td>1954.916667</td>\n",
       "      <td>229</td>\n",
       "    </tr>\n",
       "    <tr>\n",
       "      <th>73</th>\n",
       "      <td>1955.000000</td>\n",
       "      <td>242</td>\n",
       "    </tr>\n",
       "    <tr>\n",
       "      <th>74</th>\n",
       "      <td>1955.083333</td>\n",
       "      <td>233</td>\n",
       "    </tr>\n",
       "    <tr>\n",
       "      <th>75</th>\n",
       "      <td>1955.166667</td>\n",
       "      <td>267</td>\n",
       "    </tr>\n",
       "    <tr>\n",
       "      <th>76</th>\n",
       "      <td>1955.250000</td>\n",
       "      <td>269</td>\n",
       "    </tr>\n",
       "    <tr>\n",
       "      <th>77</th>\n",
       "      <td>1955.333333</td>\n",
       "      <td>270</td>\n",
       "    </tr>\n",
       "    <tr>\n",
       "      <th>78</th>\n",
       "      <td>1955.416667</td>\n",
       "      <td>315</td>\n",
       "    </tr>\n",
       "    <tr>\n",
       "      <th>79</th>\n",
       "      <td>1955.500000</td>\n",
       "      <td>364</td>\n",
       "    </tr>\n",
       "    <tr>\n",
       "      <th>80</th>\n",
       "      <td>1955.583333</td>\n",
       "      <td>347</td>\n",
       "    </tr>\n",
       "    <tr>\n",
       "      <th>81</th>\n",
       "      <td>1955.666667</td>\n",
       "      <td>312</td>\n",
       "    </tr>\n",
       "    <tr>\n",
       "      <th>82</th>\n",
       "      <td>1955.750000</td>\n",
       "      <td>274</td>\n",
       "    </tr>\n",
       "    <tr>\n",
       "      <th>83</th>\n",
       "      <td>1955.833333</td>\n",
       "      <td>237</td>\n",
       "    </tr>\n",
       "    <tr>\n",
       "      <th>84</th>\n",
       "      <td>1955.916667</td>\n",
       "      <td>278</td>\n",
       "    </tr>\n",
       "    <tr>\n",
       "      <th>85</th>\n",
       "      <td>1956.000000</td>\n",
       "      <td>284</td>\n",
       "    </tr>\n",
       "    <tr>\n",
       "      <th>86</th>\n",
       "      <td>1956.083333</td>\n",
       "      <td>277</td>\n",
       "    </tr>\n",
       "    <tr>\n",
       "      <th>87</th>\n",
       "      <td>1956.166667</td>\n",
       "      <td>317</td>\n",
       "    </tr>\n",
       "    <tr>\n",
       "      <th>88</th>\n",
       "      <td>1956.250000</td>\n",
       "      <td>313</td>\n",
       "    </tr>\n",
       "    <tr>\n",
       "      <th>89</th>\n",
       "      <td>1956.333333</td>\n",
       "      <td>318</td>\n",
       "    </tr>\n",
       "    <tr>\n",
       "      <th>90</th>\n",
       "      <td>1956.416667</td>\n",
       "      <td>374</td>\n",
       "    </tr>\n",
       "    <tr>\n",
       "      <th>91</th>\n",
       "      <td>1956.500000</td>\n",
       "      <td>413</td>\n",
       "    </tr>\n",
       "    <tr>\n",
       "      <th>92</th>\n",
       "      <td>1956.583333</td>\n",
       "      <td>405</td>\n",
       "    </tr>\n",
       "    <tr>\n",
       "      <th>93</th>\n",
       "      <td>1956.666667</td>\n",
       "      <td>355</td>\n",
       "    </tr>\n",
       "    <tr>\n",
       "      <th>94</th>\n",
       "      <td>1956.750000</td>\n",
       "      <td>306</td>\n",
       "    </tr>\n",
       "    <tr>\n",
       "      <th>95</th>\n",
       "      <td>1956.833333</td>\n",
       "      <td>271</td>\n",
       "    </tr>\n",
       "    <tr>\n",
       "      <th>96</th>\n",
       "      <td>1956.916667</td>\n",
       "      <td>306</td>\n",
       "    </tr>\n",
       "    <tr>\n",
       "      <th>97</th>\n",
       "      <td>1957.000000</td>\n",
       "      <td>315</td>\n",
       "    </tr>\n",
       "    <tr>\n",
       "      <th>98</th>\n",
       "      <td>1957.083333</td>\n",
       "      <td>301</td>\n",
       "    </tr>\n",
       "    <tr>\n",
       "      <th>99</th>\n",
       "      <td>1957.166667</td>\n",
       "      <td>356</td>\n",
       "    </tr>\n",
       "    <tr>\n",
       "      <th>100</th>\n",
       "      <td>1957.250000</td>\n",
       "      <td>348</td>\n",
       "    </tr>\n",
       "    <tr>\n",
       "      <th>101</th>\n",
       "      <td>1957.333333</td>\n",
       "      <td>355</td>\n",
       "    </tr>\n",
       "    <tr>\n",
       "      <th>102</th>\n",
       "      <td>1957.416667</td>\n",
       "      <td>422</td>\n",
       "    </tr>\n",
       "    <tr>\n",
       "      <th>103</th>\n",
       "      <td>1957.500000</td>\n",
       "      <td>465</td>\n",
       "    </tr>\n",
       "    <tr>\n",
       "      <th>104</th>\n",
       "      <td>1957.583333</td>\n",
       "      <td>467</td>\n",
       "    </tr>\n",
       "    <tr>\n",
       "      <th>105</th>\n",
       "      <td>1957.666667</td>\n",
       "      <td>404</td>\n",
       "    </tr>\n",
       "    <tr>\n",
       "      <th>106</th>\n",
       "      <td>1957.750000</td>\n",
       "      <td>347</td>\n",
       "    </tr>\n",
       "    <tr>\n",
       "      <th>107</th>\n",
       "      <td>1957.833333</td>\n",
       "      <td>305</td>\n",
       "    </tr>\n",
       "    <tr>\n",
       "      <th>108</th>\n",
       "      <td>1957.916667</td>\n",
       "      <td>336</td>\n",
       "    </tr>\n",
       "    <tr>\n",
       "      <th>109</th>\n",
       "      <td>1958.000000</td>\n",
       "      <td>340</td>\n",
       "    </tr>\n",
       "    <tr>\n",
       "      <th>110</th>\n",
       "      <td>1958.083333</td>\n",
       "      <td>318</td>\n",
       "    </tr>\n",
       "    <tr>\n",
       "      <th>111</th>\n",
       "      <td>1958.166667</td>\n",
       "      <td>362</td>\n",
       "    </tr>\n",
       "    <tr>\n",
       "      <th>112</th>\n",
       "      <td>1958.250000</td>\n",
       "      <td>348</td>\n",
       "    </tr>\n",
       "    <tr>\n",
       "      <th>113</th>\n",
       "      <td>1958.333333</td>\n",
       "      <td>363</td>\n",
       "    </tr>\n",
       "    <tr>\n",
       "      <th>114</th>\n",
       "      <td>1958.416667</td>\n",
       "      <td>435</td>\n",
       "    </tr>\n",
       "    <tr>\n",
       "      <th>115</th>\n",
       "      <td>1958.500000</td>\n",
       "      <td>491</td>\n",
       "    </tr>\n",
       "    <tr>\n",
       "      <th>116</th>\n",
       "      <td>1958.583333</td>\n",
       "      <td>505</td>\n",
       "    </tr>\n",
       "    <tr>\n",
       "      <th>117</th>\n",
       "      <td>1958.666667</td>\n",
       "      <td>404</td>\n",
       "    </tr>\n",
       "    <tr>\n",
       "      <th>118</th>\n",
       "      <td>1958.750000</td>\n",
       "      <td>359</td>\n",
       "    </tr>\n",
       "    <tr>\n",
       "      <th>119</th>\n",
       "      <td>1958.833333</td>\n",
       "      <td>310</td>\n",
       "    </tr>\n",
       "    <tr>\n",
       "      <th>120</th>\n",
       "      <td>1958.916667</td>\n",
       "      <td>337</td>\n",
       "    </tr>\n",
       "    <tr>\n",
       "      <th>121</th>\n",
       "      <td>1959.000000</td>\n",
       "      <td>360</td>\n",
       "    </tr>\n",
       "    <tr>\n",
       "      <th>122</th>\n",
       "      <td>1959.083333</td>\n",
       "      <td>342</td>\n",
       "    </tr>\n",
       "    <tr>\n",
       "      <th>123</th>\n",
       "      <td>1959.166667</td>\n",
       "      <td>406</td>\n",
       "    </tr>\n",
       "    <tr>\n",
       "      <th>124</th>\n",
       "      <td>1959.250000</td>\n",
       "      <td>396</td>\n",
       "    </tr>\n",
       "    <tr>\n",
       "      <th>125</th>\n",
       "      <td>1959.333333</td>\n",
       "      <td>420</td>\n",
       "    </tr>\n",
       "    <tr>\n",
       "      <th>126</th>\n",
       "      <td>1959.416667</td>\n",
       "      <td>472</td>\n",
       "    </tr>\n",
       "    <tr>\n",
       "      <th>127</th>\n",
       "      <td>1959.500000</td>\n",
       "      <td>548</td>\n",
       "    </tr>\n",
       "    <tr>\n",
       "      <th>128</th>\n",
       "      <td>1959.583333</td>\n",
       "      <td>559</td>\n",
       "    </tr>\n",
       "    <tr>\n",
       "      <th>129</th>\n",
       "      <td>1959.666667</td>\n",
       "      <td>463</td>\n",
       "    </tr>\n",
       "    <tr>\n",
       "      <th>130</th>\n",
       "      <td>1959.750000</td>\n",
       "      <td>407</td>\n",
       "    </tr>\n",
       "    <tr>\n",
       "      <th>131</th>\n",
       "      <td>1959.833333</td>\n",
       "      <td>362</td>\n",
       "    </tr>\n",
       "    <tr>\n",
       "      <th>132</th>\n",
       "      <td>1959.916667</td>\n",
       "      <td>405</td>\n",
       "    </tr>\n",
       "    <tr>\n",
       "      <th>133</th>\n",
       "      <td>1960.000000</td>\n",
       "      <td>417</td>\n",
       "    </tr>\n",
       "    <tr>\n",
       "      <th>134</th>\n",
       "      <td>1960.083333</td>\n",
       "      <td>391</td>\n",
       "    </tr>\n",
       "    <tr>\n",
       "      <th>135</th>\n",
       "      <td>1960.166667</td>\n",
       "      <td>419</td>\n",
       "    </tr>\n",
       "    <tr>\n",
       "      <th>136</th>\n",
       "      <td>1960.250000</td>\n",
       "      <td>461</td>\n",
       "    </tr>\n",
       "    <tr>\n",
       "      <th>137</th>\n",
       "      <td>1960.333333</td>\n",
       "      <td>472</td>\n",
       "    </tr>\n",
       "    <tr>\n",
       "      <th>138</th>\n",
       "      <td>1960.416667</td>\n",
       "      <td>535</td>\n",
       "    </tr>\n",
       "    <tr>\n",
       "      <th>139</th>\n",
       "      <td>1960.500000</td>\n",
       "      <td>622</td>\n",
       "    </tr>\n",
       "    <tr>\n",
       "      <th>140</th>\n",
       "      <td>1960.583333</td>\n",
       "      <td>606</td>\n",
       "    </tr>\n",
       "    <tr>\n",
       "      <th>141</th>\n",
       "      <td>1960.666667</td>\n",
       "      <td>508</td>\n",
       "    </tr>\n",
       "    <tr>\n",
       "      <th>142</th>\n",
       "      <td>1960.750000</td>\n",
       "      <td>461</td>\n",
       "    </tr>\n",
       "    <tr>\n",
       "      <th>143</th>\n",
       "      <td>1960.833333</td>\n",
       "      <td>390</td>\n",
       "    </tr>\n",
       "    <tr>\n",
       "      <th>144</th>\n",
       "      <td>1960.916667</td>\n",
       "      <td>432</td>\n",
       "    </tr>\n",
       "  </tbody>\n",
       "</table>\n",
       "</div>"
      ],
      "text/plain": [
       "            time  AirPassengers\n",
       "1    1949.000000            112\n",
       "2    1949.083333            118\n",
       "3    1949.166667            132\n",
       "4    1949.250000            129\n",
       "5    1949.333333            121\n",
       "6    1949.416667            135\n",
       "7    1949.500000            148\n",
       "8    1949.583333            148\n",
       "9    1949.666667            136\n",
       "10   1949.750000            119\n",
       "11   1949.833333            104\n",
       "12   1949.916667            118\n",
       "13   1950.000000            115\n",
       "14   1950.083333            126\n",
       "15   1950.166667            141\n",
       "16   1950.250000            135\n",
       "17   1950.333333            125\n",
       "18   1950.416667            149\n",
       "19   1950.500000            170\n",
       "20   1950.583333            170\n",
       "21   1950.666667            158\n",
       "22   1950.750000            133\n",
       "23   1950.833333            114\n",
       "24   1950.916667            140\n",
       "25   1951.000000            145\n",
       "26   1951.083333            150\n",
       "27   1951.166667            178\n",
       "28   1951.250000            163\n",
       "29   1951.333333            172\n",
       "30   1951.416667            178\n",
       "31   1951.500000            199\n",
       "32   1951.583333            199\n",
       "33   1951.666667            184\n",
       "34   1951.750000            162\n",
       "35   1951.833333            146\n",
       "36   1951.916667            166\n",
       "37   1952.000000            171\n",
       "38   1952.083333            180\n",
       "39   1952.166667            193\n",
       "40   1952.250000            181\n",
       "41   1952.333333            183\n",
       "42   1952.416667            218\n",
       "43   1952.500000            230\n",
       "44   1952.583333            242\n",
       "45   1952.666667            209\n",
       "46   1952.750000            191\n",
       "47   1952.833333            172\n",
       "48   1952.916667            194\n",
       "49   1953.000000            196\n",
       "50   1953.083333            196\n",
       "51   1953.166667            236\n",
       "52   1953.250000            235\n",
       "53   1953.333333            229\n",
       "54   1953.416667            243\n",
       "55   1953.500000            264\n",
       "56   1953.583333            272\n",
       "57   1953.666667            237\n",
       "58   1953.750000            211\n",
       "59   1953.833333            180\n",
       "60   1953.916667            201\n",
       "61   1954.000000            204\n",
       "62   1954.083333            188\n",
       "63   1954.166667            235\n",
       "64   1954.250000            227\n",
       "65   1954.333333            234\n",
       "66   1954.416667            264\n",
       "67   1954.500000            302\n",
       "68   1954.583333            293\n",
       "69   1954.666667            259\n",
       "70   1954.750000            229\n",
       "71   1954.833333            203\n",
       "72   1954.916667            229\n",
       "73   1955.000000            242\n",
       "74   1955.083333            233\n",
       "75   1955.166667            267\n",
       "76   1955.250000            269\n",
       "77   1955.333333            270\n",
       "78   1955.416667            315\n",
       "79   1955.500000            364\n",
       "80   1955.583333            347\n",
       "81   1955.666667            312\n",
       "82   1955.750000            274\n",
       "83   1955.833333            237\n",
       "84   1955.916667            278\n",
       "85   1956.000000            284\n",
       "86   1956.083333            277\n",
       "87   1956.166667            317\n",
       "88   1956.250000            313\n",
       "89   1956.333333            318\n",
       "90   1956.416667            374\n",
       "91   1956.500000            413\n",
       "92   1956.583333            405\n",
       "93   1956.666667            355\n",
       "94   1956.750000            306\n",
       "95   1956.833333            271\n",
       "96   1956.916667            306\n",
       "97   1957.000000            315\n",
       "98   1957.083333            301\n",
       "99   1957.166667            356\n",
       "100  1957.250000            348\n",
       "101  1957.333333            355\n",
       "102  1957.416667            422\n",
       "103  1957.500000            465\n",
       "104  1957.583333            467\n",
       "105  1957.666667            404\n",
       "106  1957.750000            347\n",
       "107  1957.833333            305\n",
       "108  1957.916667            336\n",
       "109  1958.000000            340\n",
       "110  1958.083333            318\n",
       "111  1958.166667            362\n",
       "112  1958.250000            348\n",
       "113  1958.333333            363\n",
       "114  1958.416667            435\n",
       "115  1958.500000            491\n",
       "116  1958.583333            505\n",
       "117  1958.666667            404\n",
       "118  1958.750000            359\n",
       "119  1958.833333            310\n",
       "120  1958.916667            337\n",
       "121  1959.000000            360\n",
       "122  1959.083333            342\n",
       "123  1959.166667            406\n",
       "124  1959.250000            396\n",
       "125  1959.333333            420\n",
       "126  1959.416667            472\n",
       "127  1959.500000            548\n",
       "128  1959.583333            559\n",
       "129  1959.666667            463\n",
       "130  1959.750000            407\n",
       "131  1959.833333            362\n",
       "132  1959.916667            405\n",
       "133  1960.000000            417\n",
       "134  1960.083333            391\n",
       "135  1960.166667            419\n",
       "136  1960.250000            461\n",
       "137  1960.333333            472\n",
       "138  1960.416667            535\n",
       "139  1960.500000            622\n",
       "140  1960.583333            606\n",
       "141  1960.666667            508\n",
       "142  1960.750000            461\n",
       "143  1960.833333            390\n",
       "144  1960.916667            432"
      ]
     },
     "execution_count": 58,
     "metadata": {},
     "output_type": "execute_result"
    }
   ],
   "source": [
    "data2=data('AirPassengers')\n",
    "data2\n"
   ]
  },
  {
   "cell_type": "code",
   "execution_count": 59,
   "id": "2d7f88b0",
   "metadata": {},
   "outputs": [],
   "source": [
    "time=data2['time'].values"
   ]
  },
  {
   "cell_type": "code",
   "execution_count": 60,
   "id": "1cc546a0",
   "metadata": {},
   "outputs": [],
   "source": [
    "AirPassengers=data2['AirPassengers'].values\n"
   ]
  },
  {
   "cell_type": "code",
   "execution_count": 61,
   "id": "2b1420aa",
   "metadata": {},
   "outputs": [],
   "source": [
    "slope,intercept,r,p,std_error = stats.linregress(time,AirPassengers)"
   ]
  },
  {
   "cell_type": "code",
   "execution_count": 62,
   "id": "2ea9b5aa",
   "metadata": {},
   "outputs": [
    {
     "data": {
      "text/plain": [
       "<Axes: >"
      ]
     },
     "execution_count": 62,
     "metadata": {},
     "output_type": "execute_result"
    },
    {
     "data": {
      "image/png": "[encoded data removed]",
      "text/plain": [
       "<Figure size 640x480 with 2 Axes>"
      ]
     },
     "metadata": {},
     "output_type": "display_data"
    }
   ],
   "source": [
    "sns.heatmap(data=data2.corr(),annot=True)"
   ]
  },
  {
   "cell_type": "code",
   "execution_count": 63,
   "id": "5ab67754",
   "metadata": {},
   "outputs": [],
   "source": [
    "def my_func(time):\n",
    "    return slope*time+intercept"
   ]
  },
  {
   "cell_type": "code",
   "execution_count": 64,
   "id": "9435d338",
   "metadata": {},
   "outputs": [
    {
     "data": {
      "text/plain": [
       "<map at 0x2e5f7601900>"
      ]
     },
     "execution_count": 64,
     "metadata": {},
     "output_type": "execute_result"
    }
   ],
   "source": [
    "map(my_func,time)"
   ]
  },
  {
   "cell_type": "code",
   "execution_count": 65,
   "id": "cd3ba0a3",
   "metadata": {},
   "outputs": [
    {
     "data": {
      "text/plain": [
       "[90.30996168585989,\n",
       " 92.96714559380052,\n",
       " 95.62432950205402,\n",
       " 98.28151340999466,\n",
       " 100.9386973179353,\n",
       " 103.59588122618152,\n",
       " 106.25306513412943,\n",
       " 108.91024904207006,\n",
       " 111.56743295031629,\n",
       " 114.22461685825692,\n",
       " 116.88180076620483,\n",
       " 119.53898467445106,\n",
       " 122.19616858239169,\n",
       " 124.85335249033233,\n",
       " 127.51053639858583,\n",
       " 130.16772030652646,\n",
       " 132.8249042144671,\n",
       " 135.4820881227206,\n",
       " 138.13927203066123,\n",
       " 140.79645593860187,\n",
       " 143.45363984685537,\n",
       " 146.110823754796,\n",
       " 148.76800766273664,\n",
       " 151.42519157099014,\n",
       " 154.08237547893077,\n",
       " 156.7395593868714,\n",
       " 159.3967432951249,\n",
       " 162.05392720306554,\n",
       " 164.71111111100618,\n",
       " 167.36829501925968,\n",
       " 170.0254789272003,\n",
       " 172.68266283514095,\n",
       " 175.33984674339445,\n",
       " 177.99703065133508,\n",
       " 180.65421455927572,\n",
       " 183.31139846752922,\n",
       " 185.96858237546985,\n",
       " 188.62576628341048,\n",
       " 191.28295019166399,\n",
       " 193.94013409960462,\n",
       " 196.59731800754525,\n",
       " 199.25450191579876,\n",
       " 201.9116858237394,\n",
       " 204.56886973168002,\n",
       " 207.22605363993353,\n",
       " 209.88323754787416,\n",
       " 212.5404214558148,\n",
       " 215.1976053640683,\n",
       " 217.85478927200893,\n",
       " 220.51197317994956,\n",
       " 223.16915708820306,\n",
       " 225.8263409961437,\n",
       " 228.48352490408433,\n",
       " 231.14070881233783,\n",
       " 233.79789272027847,\n",
       " 236.4550766282191,\n",
       " 239.1122605364726,\n",
       " 241.76944444441324,\n",
       " 244.42662835235387,\n",
       " 247.08381226060737,\n",
       " 249.740996168548,\n",
       " 252.39818007648864,\n",
       " 255.05536398474214,\n",
       " 257.7125478926828,\n",
       " 260.3697318006234,\n",
       " 263.0269157088769,\n",
       " 265.68409961681755,\n",
       " 268.3412835247582,\n",
       " 270.9984674330117,\n",
       " 273.6556513409523,\n",
       " 276.31283524889295,\n",
       " 278.97001915714645,\n",
       " 281.6272030650871,\n",
       " 284.28438697334786,\n",
       " 286.9415708812812,\n",
       " 289.59875478922186,\n",
       " 292.25593869748263,\n",
       " 294.913122605416,\n",
       " 297.5703065133566,\n",
       " 300.2274904216174,\n",
       " 302.88467432955076,\n",
       " 305.5418582374914,\n",
       " 308.1990421457449,\n",
       " 310.85622605368553,\n",
       " 313.51340996162617,\n",
       " 316.17059386987967,\n",
       " 318.827777777813,\n",
       " 321.48496168576094,\n",
       " 324.14214559401444,\n",
       " 326.7993295019478,\n",
       " 329.45651340988843,\n",
       " 332.1136973181492,\n",
       " 334.77088122608257,\n",
       " 337.4280651340232,\n",
       " 340.085249042284,\n",
       " 342.74243295021734,\n",
       " 345.39961685815797,\n",
       " 348.05680076641875,\n",
       " 350.7139846743521,\n",
       " 353.37116858229274,\n",
       " 356.0283524905535,\n",
       " 358.6855363984869,\n",
       " 361.3427203064275,\n",
       " 363.9999042146883,\n",
       " 366.65708812262164,\n",
       " 369.3142720305623,\n",
       " 371.97145593882306,\n",
       " 374.6286398467564,\n",
       " 377.28582375469705,\n",
       " 379.9430076629578,\n",
       " 382.6001915708912,\n",
       " 385.2573754788318,\n",
       " 387.9145593870926,\n",
       " 390.57174329502595,\n",
       " 393.2289272029666,\n",
       " 395.88611111122736,\n",
       " 398.5432950191607,\n",
       " 401.20047892710136,\n",
       " 403.85766283536213,\n",
       " 406.5148467432955,\n",
       " 409.1720306512361,\n",
       " 411.8292145594969,\n",
       " 414.48639846743026,\n",
       " 417.1435823753709,\n",
       " 419.8007662836317,\n",
       " 422.45795019156503,\n",
       " 425.11513409950567,\n",
       " 427.77231800776644,\n",
       " 430.4295019156998,\n",
       " 433.08668582364044,\n",
       " 435.7438697319012,\n",
       " 438.4010536398346,\n",
       " 441.0582375477752,\n",
       " 443.715421456036,\n",
       " 446.37260536396934,\n",
       " 449.02978927191,\n",
       " 451.68697318017075,\n",
       " 454.3441570881041,\n",
       " 457.00134099604475,\n",
       " 459.6585249043055,\n",
       " 462.3157088122389,\n",
       " 464.9728927201795,\n",
       " 467.6300766284403,\n",
       " 470.28726053637365]"
      ]
     },
     "execution_count": 65,
     "metadata": {},
     "output_type": "execute_result"
    }
   ],
   "source": [
    "list(map(myfunc,time))"
   ]
  },
  {
   "cell_type": "code",
   "execution_count": 66,
   "id": "dcc2ecb2",
   "metadata": {},
   "outputs": [],
   "source": [
    "mymodel =list(map(myfunc,time))"
   ]
  },
  {
   "cell_type": "code",
   "execution_count": 67,
   "id": "8a28dcfa",
   "metadata": {},
   "outputs": [
    {
     "data": {
      "image/png": "[encoded data removed]",
      "text/plain": [
       "<Figure size 640x480 with 1 Axes>"
      ]
     },
     "metadata": {},
     "output_type": "display_data"
    }
   ],
   "source": [
    "sns.regplot(data=data2,x=time,y=AirPassengers)\n",
    "plt.show()"
   ]
  },
  {
   "cell_type": "code",
   "execution_count": 68,
   "id": "9158282a",
   "metadata": {},
   "outputs": [
    {
     "data": {
      "image/png": "[encoded data removed]",
      "text/plain": [
       "<Figure size 640x480 with 1 Axes>"
      ]
     },
     "metadata": {},
     "output_type": "display_data"
    }
   ],
   "source": [
    "sns.histplot(data=data2,x='AirPassengers')\n",
    "plt.show()"
   ]
  },
  {
   "cell_type": "code",
   "execution_count": 69,
   "id": "a88b0fca",
   "metadata": {},
   "outputs": [
    {
     "data": {
      "text/html": [
       "<div>\n",
       "<style scoped>\n",
       "    .dataframe tbody tr th:only-of-type {\n",
       "        vertical-align: middle;\n",
       "    }\n",
       "\n",
       "    .dataframe tbody tr th {\n",
       "        vertical-align: top;\n",
       "    }\n",
       "\n",
       "    .dataframe thead th {\n",
       "        text-align: right;\n",
       "    }\n",
       "</style>\n",
       "<table border=\"1\" class=\"dataframe\">\n",
       "  <thead>\n",
       "    <tr style=\"text-align: right;\">\n",
       "      <th></th>\n",
       "      <th>Time</th>\n",
       "      <th>demand</th>\n",
       "    </tr>\n",
       "  </thead>\n",
       "  <tbody>\n",
       "    <tr>\n",
       "      <th>1</th>\n",
       "      <td>1</td>\n",
       "      <td>8.3</td>\n",
       "    </tr>\n",
       "    <tr>\n",
       "      <th>2</th>\n",
       "      <td>2</td>\n",
       "      <td>10.3</td>\n",
       "    </tr>\n",
       "    <tr>\n",
       "      <th>3</th>\n",
       "      <td>3</td>\n",
       "      <td>19.0</td>\n",
       "    </tr>\n",
       "    <tr>\n",
       "      <th>4</th>\n",
       "      <td>4</td>\n",
       "      <td>16.0</td>\n",
       "    </tr>\n",
       "    <tr>\n",
       "      <th>5</th>\n",
       "      <td>5</td>\n",
       "      <td>15.6</td>\n",
       "    </tr>\n",
       "    <tr>\n",
       "      <th>6</th>\n",
       "      <td>7</td>\n",
       "      <td>19.8</td>\n",
       "    </tr>\n",
       "  </tbody>\n",
       "</table>\n",
       "</div>"
      ],
      "text/plain": [
       "   Time  demand\n",
       "1     1     8.3\n",
       "2     2    10.3\n",
       "3     3    19.0\n",
       "4     4    16.0\n",
       "5     5    15.6\n",
       "6     7    19.8"
      ]
     },
     "execution_count": 69,
     "metadata": {},
     "output_type": "execute_result"
    }
   ],
   "source": [
    "data3=data('BOD')\n",
    "data3"
   ]
  },
  {
   "cell_type": "code",
   "execution_count": 70,
   "id": "9798b210",
   "metadata": {},
   "outputs": [
    {
     "data": {
      "text/plain": [
       "<Axes: >"
      ]
     },
     "execution_count": 70,
     "metadata": {},
     "output_type": "execute_result"
    },
    {
     "data": {
      "image/png": "[encoded data removed]",
      "text/plain": [
       "<Figure size 640x480 with 2 Axes>"
      ]
     },
     "metadata": {},
     "output_type": "display_data"
    }
   ],
   "source": [
    "sns.heatmap(data=data3.corr(),annot=True)"
   ]
  },
  {
   "cell_type": "code",
   "execution_count": 73,
   "id": "1904a65b",
   "metadata": {
    "scrolled": true
   },
   "outputs": [
    {
     "ename": "NameError",
     "evalue": "name 'Time' is not defined",
     "output_type": "error",
     "traceback": [
      "\u001b[1;31m---------------------------------------------------------------------------\u001b[0m",
      "\u001b[1;31mNameError\u001b[0m                                 Traceback (most recent call last)",
      "Cell \u001b[1;32mIn[73], line 1\u001b[0m\n\u001b[1;32m----> 1\u001b[0m slope,intercept,r,p,std_error \u001b[38;5;241m=\u001b[39m stats\u001b[38;5;241m.\u001b[39mlinregress(\u001b[43mTime\u001b[49m,demand)\n",
      "\u001b[1;31mNameError\u001b[0m: name 'Time' is not defined"
     ]
    }
   ],
   "source": [
    "x=data3['time'].values"
   ]
  },
  {
   "cell_type": "code",
   "execution_count": null,
   "id": "9236773c",
   "metadata": {},
   "outputs": [],
   "source": []
  }
 ],
 "metadata": {
  "kernelspec": {
   "display_name": "Python 3 (ipykernel)",
   "language": "python",
   "name": "python3"
  },
  "language_info": {
   "codemirror_mode": {
    "name": "ipython",
    "version": 3
   },
   "file_extension": ".py",
   "mimetype": "text/x-python",
   "name": "python",
   "nbconvert_exporter": "python",
   "pygments_lexer": "ipython3",
   "version": "3.10.9"
  }
 },
 "nbformat": 4,
 "nbformat_minor": 5
}
