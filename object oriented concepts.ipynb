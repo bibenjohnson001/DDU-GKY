{
 "cells": [
  {
   "cell_type": "code",
   "execution_count": 1,
   "id": "f5193452",
   "metadata": {},
   "outputs": [
    {
     "name": "stdout",
     "output_type": "stream",
     "text": [
      "maruthi\n",
      "maruthi Vehicle started\n"
     ]
    }
   ],
   "source": [
    "class Vehicle:\n",
    "    def __init__(self,name,year):\n",
    "        self.name=name\n",
    "        self.year=year\n",
    "    def start(self):\n",
    "        print(self.name,\"Vehicle started\")\n",
    "c1=Vehicle('maruthi','1990')\n",
    "print(c1.name)\n",
    "c1.start()"
   ]
  },
  {
   "cell_type": "code",
   "execution_count": 2,
   "id": "d2821cda",
   "metadata": {},
   "outputs": [
    {
     "name": "stdout",
     "output_type": "stream",
     "text": [
      "biben Class started\n",
      "Geo is my enemy\n",
      "anjana miss IS A FACULTY\n",
      "biben\n",
      "anjana miss\n",
      "Geo\n"
     ]
    }
   ],
   "source": [
    "class DS6:\n",
    "    def __init__(selfer,student,faculty,enemy):\n",
    "        selfer.student=student\n",
    "        selfer.faculty=faculty\n",
    "        selfer.enemy=enemy\n",
    "    #def hi(self):\n",
    "        print(selfer.student,\"Class started\")\n",
    "        print(selfer.enemy,'is my enemy')\n",
    "        print(selfer.faculty,'IS A FACULTY')\n",
    "c1=DS6('biben','anjana miss','Geo')\n",
    "print(c1.student)\n",
    "print(c1.faculty)\n",
    "print(c1.enemy)\n",
    "#c1.hi()\n",
    "        "
   ]
  },
  {
   "cell_type": "code",
   "execution_count": 3,
   "id": "9a4e5379",
   "metadata": {},
   "outputs": [
    {
     "name": "stdout",
     "output_type": "stream",
     "text": [
      "biben Class started\n",
      "Geo is my enemy\n",
      "anjana miss IS A FACULTY\n",
      "biben\n",
      "anjana miss\n",
      "Geo\n"
     ]
    }
   ],
   "source": [
    "c1 = DS6('biben', 'anjana miss', 'Geo')\n",
    "print(c1.student)\n",
    "print(c1.faculty)\n",
    "print(c1.enemy)\n"
   ]
  },
  {
   "cell_type": "code",
   "execution_count": 4,
   "id": "f58fd5a7",
   "metadata": {},
   "outputs": [
    {
     "name": "stdout",
     "output_type": "stream",
     "text": [
      "Ram your total mark is 100\n",
      "33\n",
      "Ravi your total mark is 107\n"
     ]
    }
   ],
   "source": [
    "class student:\n",
    "    grace_mark=14\n",
    "    def __init__(self,name,sid,mark1,mark2,mark3):\n",
    "        self.name=name\n",
    "        self.sid=sid\n",
    "        self.mark1=mark1\n",
    "        self.mark2=mark2\n",
    "        self.mark3=mark3\n",
    "    def find_total(self):\n",
    "        self.total=self.mark1+self.mark2+self.mark3+student.grace_mark\n",
    "        print(\"{} your total mark is {}\".format(self.name,self.total))\n",
    "    @classmethod\n",
    "    def change_grace_mark(cls,grace_mark):\n",
    "        cls.grace_mark=cls.grace_mark+grace_mark\n",
    "        \n",
    "s1=student('Ram',12,25,30,12)\n",
    "s2=student('Ravi',15,18,24,32)\n",
    "student.change_grace_mark(19)\n",
    "s1.find_total()\n",
    "print(s2.grace_mark)\n",
    "s2.find_total()"
   ]
  },
  {
   "cell_type": "code",
   "execution_count": 5,
   "id": "1cc18378",
   "metadata": {},
   "outputs": [
    {
     "name": "stdout",
     "output_type": "stream",
     "text": [
      "you can withdraw amount\n",
      "1233455 your balance is  5000\n",
      "withdraw failed\n",
      "21545216 your balance is  10000\n"
     ]
    }
   ],
   "source": [
    "class account:\n",
    "    def __init__(self,accnt_num,accnt_blnce):\n",
    "        self.accnt=accnt_num\n",
    "        self.blnce=accnt_blnce\n",
    "    def withdraw(self,amount):\n",
    "        if self.blnce-amount>=0:\n",
    "            print(\"you can withdraw amount\")\n",
    "            self.blnce=self.blnce-amount\n",
    "        else:\n",
    "            print(\"withdraw failed\")\n",
    "    def display(self):\n",
    "        print(self.accnt,\"your balance is \",self.blnce)\n",
    "accnt1=account(1233455,10000)\n",
    "accnt1.withdraw(5000)\n",
    "accnt1.display()\n",
    "accnt2=account(21545216,10000)\n",
    "accnt2.withdraw(11000)\n",
    "accnt2.display()"
   ]
  },
  {
   "cell_type": "code",
   "execution_count": 6,
   "id": "c3fc9b04",
   "metadata": {},
   "outputs": [
    {
     "name": "stdout",
     "output_type": "stream",
     "text": [
      "name: biben\n",
      "age:26\n",
      "name: john\n",
      "age:36\n"
     ]
    }
   ],
   "source": [
    "from datetime import date\n",
    "class student:\n",
    "    def __init__(self,name,age): #intialising the attribute\n",
    "        self.name=name\n",
    "        self.age=age\n",
    "    def display(self):\n",
    "        print(\"name: {}\\nage:{}\".format(self.name,self.age))\n",
    "    @classmethod\n",
    "    def find_age(cls,name,yob):\n",
    "        return cls(name,(date.today().year-yob))\n",
    "s1=student('biben',26)\n",
    "s2=student.find_age('john',1987)\n",
    "s1.display()\n",
    "s2.display()"
   ]
  },
  {
   "cell_type": "markdown",
   "id": "c838a2ca",
   "metadata": {},
   "source": [
    "1. Write a Python class Employee with attributes like emp_id, emp_name, emp_salary, and\n",
    "emp_department and methods like calculate_emp_salary, emp_assign_department, and\n",
    "print_employee_details.\n",
    "Sample Employee Data:\n",
    "\"ADAMS\", \"E7876\", 50000, \"ACCOUNTING\"\n",
    "\"JONES\", \"E7499\", 45000, \"RESEARCH\"\n",
    "\"MARTIN\", \"E7900\", 50000, \"SALES\"\n",
    "\"SMITH\", \"E7698\", 55000, \"OPERATIONS\""
   ]
  },
  {
   "cell_type": "code",
   "execution_count": 17,
   "id": "b800da61",
   "metadata": {},
   "outputs": [
    {
     "name": "stdout",
     "output_type": "stream",
     "text": [
      "E7876 ADAMS 50000 ACCOUNTING\n",
      "E7499 jones 45000 RESEARCH\n",
      "E7900 MARTIN 50000 SALES\n",
      "E7698 SMITH 55000 OPERATIONS\n"
     ]
    }
   ],
   "source": [
    "class Employee:\n",
    "    def __init__(self,emp_id,emp_name,emp_salary,emp_department):\n",
    "        self.emp_id=emp_id\n",
    "        self.emp_name=emp_name\n",
    "        self.emp_salary=emp_salary\n",
    "        self.emp_department=emp_department\n",
    "    def display(self):\n",
    "        print(self.emp_id,self.emp_name,self.emp_salary,self.emp_department)\n",
    "        \n",
    "s1=Employee('E7876','ADAMS',50000,'ACCOUNTING')\n",
    "s2=Employee('E7499','jones',45000,'RESEARCH')\n",
    "s3=Employee('E7900','MARTIN',50000,'SALES')\n",
    "s4=Employee('E7698','SMITH',55000,'OPERATIONS')\n",
    "s1.display()\n",
    "s2.display()\n",
    "s3.display()\n",
    "s4.display()    "
   ]
  },
  {
   "cell_type": "code",
   "execution_count": 28,
   "id": "06e91bf4",
   "metadata": {},
   "outputs": [
    {
     "name": "stdout",
     "output_type": "stream",
     "text": [
      "ID NAME SALARY DEPARTMNENT NATIONALITY\n",
      "E7876 ADAMS 50000 ACCOUNTING INDIAN\n",
      "E7499 jones 45000 RESEARCH CHINESE\n",
      "E7900 MARTIN 50000 SALES KOREAN\n",
      "E7698 SMITH 55000 OPERATIONS JAPANESE\n",
      "cek15c4rf5s014 biben 170926 MAINTAINANCE INDIAN\n"
     ]
    }
   ],
   "source": [
    "class Employee:\n",
    "    def __init__(selv,emp_row,emp_id,emp_name,emp_salary,emp_department,emp_nationality):\n",
    "        selv.emp_row=emp_row\n",
    "        selv.emp_id=emp_id\n",
    "        selv.emp_name=emp_name\n",
    "        selv.emp_salary=emp_salary\n",
    "        selv.emp_department=emp_department\n",
    "        selv.emp_nationality=emp_nationality\n",
    "    def calculate_emp_salary(selv,amount):\n",
    "        print(\"id: {}\\nname: {}\\nsalary:{}\\ndepartment:{}\".format(selv.row,selv.id,selv.name,selv.salary,selv.department))\n",
    "    def display(selv):\n",
    "        print(selv.emp_id,selv.emp_name,selv.emp_salary,selv.emp_department,selv.emp_nationality)\n",
    "s0=Employee('row','ID', 'NAME','SALARY','DEPARTMNENT','NATIONALITY')      \n",
    "s1=Employee(0,'E7876','ADAMS',50000,'ACCOUNTING','INDIAN')\n",
    "s2=Employee(1,'E7499','jones',45000,'RESEARCH','CHINESE')\n",
    "s3=Employee(2,'E7900','MARTIN',50000,'SALES','KOREAN')\n",
    "s4=Employee(3,'E7698','SMITH',55000,'OPERATIONS','JAPANESE')\n",
    "s5=Employee(4,'cek15c4rf5s014','biben',170926,'MAINTAINANCE','INDIAN')\n",
    "s0.display()\n",
    "s1.display()\n",
    "s2.display()\n",
    "s3.display()\n",
    "s4.display()\n",
    "s5.display()"
   ]
  },
  {
   "cell_type": "code",
   "execution_count": null,
   "id": "a3eaa00a",
   "metadata": {},
   "outputs": [],
   "source": []
  }
 ],
 "metadata": {
  "kernelspec": {
   "display_name": "Python 3 (ipykernel)",
   "language": "python",
   "name": "python3"
  },
  "language_info": {
   "codemirror_mode": {
    "name": "ipython",
    "version": 3
   },
   "file_extension": ".py",
   "mimetype": "text/x-python",
   "name": "python",
   "nbconvert_exporter": "python",
   "pygments_lexer": "ipython3",
   "version": "3.10.9"
  }
 },
 "nbformat": 4,
 "nbformat_minor": 5
}
